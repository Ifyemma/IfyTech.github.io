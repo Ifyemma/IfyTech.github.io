{
 "cells": [
  {
   "cell_type": "markdown",
   "id": "b6537844",
   "metadata": {
    "papermill": {
     "duration": 0.042801,
     "end_time": "2024-08-11T15:19:17.106706",
     "exception": false,
     "start_time": "2024-08-11T15:19:17.063905",
     "status": "completed"
    },
    "tags": []
   },
   "source": [
    "<div style=\"border-radius: 30px 0 30px 0px; border: 2px solid #1a5276; padding: 20px; background-color: #5fa1bc; text-align: center; box-shadow: 0px 2px 4px rgba(0, 0, 0, 0.2);\">\n",
    "    <h1 style=\"color: #f4d03f; text-shadow: 2px 2px 4px rgba(0, 0, 0, 0.5); font-weight: bold; margin-bottom: 10px; font-size: 36px;\">📊 A Comprehensive Guide to NumPy Arrays and Operations\n",
    "</div>\n"
   ]
  },
  {
   "cell_type": "markdown",
   "id": "2a9fe89e",
   "metadata": {
    "papermill": {
     "duration": 0.040602,
     "end_time": "2024-08-11T15:19:17.190608",
     "exception": false,
     "start_time": "2024-08-11T15:19:17.150006",
     "status": "completed"
    },
    "tags": []
   },
   "source": [
    "<div style=\"\n",
    "  background-color: #d4e6f1;\n",
    "  padding: 20px;\n",
    "  border-radius: 15px;\n",
    "  color: #4a5d23;\n",
    "  font-family: 'Times New Roman', serif;\n",
    "  text-align: left;\n",
    "  box-shadow: 0 8px 16px rgba(0, 0, 0, 0.2);\n",
    "\">\n",
    "\n",
    "### 📘 Introduction to NumPy\n",
    "\n",
    "NumPy, short for **Numerical Python**, is a powerful library in Python that provides support for large, multi-dimensional arrays and matrices, along with a collection of mathematical functions to operate on these arrays. NumPy is widely used in data science, machine learning, scientific computing, and engineering due to its efficiency and ease of use.\n",
    "\n",
    "## 🌟 Key Features of NumPy\n",
    "\n",
    "- **📊 Multi-dimensional Arrays**: NumPy provides the `ndarray` object, which is a fast, flexible container for large datasets in Python. Unlike traditional Python lists, NumPy arrays are more memory-efficient and offer better performance for numerical operations.\n",
    "  \n",
    "- **➗ Mathematical Functions**: NumPy includes a comprehensive set of mathematical operations that can be applied element-wise to arrays, such as basic arithmetic operations, statistical functions, linear algebra, Fourier transforms, and more.\n",
    "  \n",
    "- **🚀 Broadcasting**: This powerful feature allows NumPy to perform operations on arrays of different shapes in a memory-efficient way, without needing to create unnecessary copies of data.\n",
    "\n",
    "- **🔗 Integration with Other Libraries**: NumPy is the foundational package for many other scientific computing libraries in Python, such as SciPy, Pandas, and TensorFlow. This makes it an essential tool in the Python ecosystem for data analysis and machine learning.\n",
    "\n",
    "- **⚡ Efficient Computation**: NumPy is implemented in C, allowing for highly optimized and fast execution of numerical operations. This makes it suitable for handling large datasets and performing complex calculations.\n",
    "\n",
    "## 🤔 Why Use NumPy?\n",
    "\n",
    "NumPy is essential for anyone working in data science, machine learning, or scientific computing for several reasons:\n",
    "\n",
    "1. **🚀 Performance**: NumPy arrays are much faster and more efficient than Python lists, especially for large datasets.\n",
    "2. **🛠️ Convenience**: NumPy provides a wide range of mathematical functions and operations that are easy to use and apply to entire arrays.\n",
    "3. **🎯 Versatility**: NumPy is the backbone of many other libraries in the Python data science stack, making it a must-know tool for any data scientist or researcher.\n",
    "4. **🌍 Community and Documentation**: NumPy has extensive documentation and a large, active community, making it easy to find resources, tutorials, and help when needed.\n",
    "\n",
    "</div>\n"
   ]
  },
  {
   "cell_type": "markdown",
   "id": "994b5a96",
   "metadata": {
    "papermill": {
     "duration": 0.040698,
     "end_time": "2024-08-11T15:19:17.272098",
     "exception": false,
     "start_time": "2024-08-11T15:19:17.231400",
     "status": "completed"
    },
    "tags": []
   },
   "source": [
    "<div style=\"font-family: 'Times New Roman'; background-color: #f0f4c3; color: #3e4e24; padding: 10px; border-radius: 5px; text-align: center;\">\n",
    "\n",
    "### 🛠️ Array Creation\n",
    "\n",
    "</div>\n"
   ]
  },
  {
   "cell_type": "code",
   "execution_count": 1,
   "id": "2c6cfc3c",
   "metadata": {
    "execution": {
     "iopub.execute_input": "2024-08-11T15:19:17.355848Z",
     "iopub.status.busy": "2024-08-11T15:19:17.355403Z",
     "iopub.status.idle": "2024-08-11T15:19:17.370089Z",
     "shell.execute_reply": "2024-08-11T15:19:17.368855Z"
    },
    "papermill": {
     "duration": 0.059961,
     "end_time": "2024-08-11T15:19:17.372860",
     "exception": false,
     "start_time": "2024-08-11T15:19:17.312899",
     "status": "completed"
    },
    "tags": []
   },
   "outputs": [],
   "source": [
    "import numpy as np"
   ]
  },
  {
   "cell_type": "code",
   "execution_count": 2,
   "id": "c7fc2844",
   "metadata": {
    "execution": {
     "iopub.execute_input": "2024-08-11T15:19:17.457661Z",
     "iopub.status.busy": "2024-08-11T15:19:17.457226Z",
     "iopub.status.idle": "2024-08-11T15:19:17.466945Z",
     "shell.execute_reply": "2024-08-11T15:19:17.465819Z"
    },
    "papermill": {
     "duration": 0.055175,
     "end_time": "2024-08-11T15:19:17.469433",
     "exception": false,
     "start_time": "2024-08-11T15:19:17.414258",
     "status": "completed"
    },
    "tags": []
   },
   "outputs": [
    {
     "data": {
      "text/plain": [
       "array([1, 2, 3, 4])"
      ]
     },
     "execution_count": 2,
     "metadata": {},
     "output_type": "execute_result"
    }
   ],
   "source": [
    "a1=np.array([1,2,3,4])\n",
    "a1"
   ]
  },
  {
   "cell_type": "code",
   "execution_count": 3,
   "id": "6e9ee467",
   "metadata": {
    "execution": {
     "iopub.execute_input": "2024-08-11T15:19:17.557339Z",
     "iopub.status.busy": "2024-08-11T15:19:17.556428Z",
     "iopub.status.idle": "2024-08-11T15:19:17.562192Z",
     "shell.execute_reply": "2024-08-11T15:19:17.560968Z"
    },
    "papermill": {
     "duration": 0.051996,
     "end_time": "2024-08-11T15:19:17.564771",
     "exception": false,
     "start_time": "2024-08-11T15:19:17.512775",
     "status": "completed"
    },
    "tags": []
   },
   "outputs": [],
   "source": [
    "a2=np.array([[1,2,3],\n",
    "             [4,5,6]])"
   ]
  },
  {
   "cell_type": "code",
   "execution_count": 4,
   "id": "b869dcba",
   "metadata": {
    "execution": {
     "iopub.execute_input": "2024-08-11T15:19:17.648184Z",
     "iopub.status.busy": "2024-08-11T15:19:17.647754Z",
     "iopub.status.idle": "2024-08-11T15:19:17.655522Z",
     "shell.execute_reply": "2024-08-11T15:19:17.654337Z"
    },
    "papermill": {
     "duration": 0.052377,
     "end_time": "2024-08-11T15:19:17.657983",
     "exception": false,
     "start_time": "2024-08-11T15:19:17.605606",
     "status": "completed"
    },
    "tags": []
   },
   "outputs": [
    {
     "data": {
      "text/plain": [
       "array([[1, 2, 3],\n",
       "       [4, 5, 6]])"
      ]
     },
     "execution_count": 4,
     "metadata": {},
     "output_type": "execute_result"
    }
   ],
   "source": [
    "a2"
   ]
  },
  {
   "cell_type": "code",
   "execution_count": 5,
   "id": "28082ac9",
   "metadata": {
    "execution": {
     "iopub.execute_input": "2024-08-11T15:19:17.742603Z",
     "iopub.status.busy": "2024-08-11T15:19:17.742183Z",
     "iopub.status.idle": "2024-08-11T15:19:17.748550Z",
     "shell.execute_reply": "2024-08-11T15:19:17.747160Z"
    },
    "papermill": {
     "duration": 0.051172,
     "end_time": "2024-08-11T15:19:17.750953",
     "exception": false,
     "start_time": "2024-08-11T15:19:17.699781",
     "status": "completed"
    },
    "tags": []
   },
   "outputs": [],
   "source": [
    "a3=np.array([[[1,2,3],\n",
    "     [4,5,6],\n",
    "     [7,8,9]],\n",
    "     [[10,11,12],\n",
    "      [13,14,15],\n",
    "      [16,17,18]]])"
   ]
  },
  {
   "cell_type": "code",
   "execution_count": 6,
   "id": "2176d237",
   "metadata": {
    "execution": {
     "iopub.execute_input": "2024-08-11T15:19:17.834905Z",
     "iopub.status.busy": "2024-08-11T15:19:17.834516Z",
     "iopub.status.idle": "2024-08-11T15:19:17.841531Z",
     "shell.execute_reply": "2024-08-11T15:19:17.840447Z"
    },
    "papermill": {
     "duration": 0.051904,
     "end_time": "2024-08-11T15:19:17.843947",
     "exception": false,
     "start_time": "2024-08-11T15:19:17.792043",
     "status": "completed"
    },
    "tags": []
   },
   "outputs": [
    {
     "data": {
      "text/plain": [
       "array([[[ 1,  2,  3],\n",
       "        [ 4,  5,  6],\n",
       "        [ 7,  8,  9]],\n",
       "\n",
       "       [[10, 11, 12],\n",
       "        [13, 14, 15],\n",
       "        [16, 17, 18]]])"
      ]
     },
     "execution_count": 6,
     "metadata": {},
     "output_type": "execute_result"
    }
   ],
   "source": [
    "a3"
   ]
  },
  {
   "cell_type": "markdown",
   "id": "caec496f",
   "metadata": {
    "papermill": {
     "duration": 0.104652,
     "end_time": "2024-08-11T15:19:17.989934",
     "exception": false,
     "start_time": "2024-08-11T15:19:17.885282",
     "status": "completed"
    },
    "tags": []
   },
   "source": [
    "<div style=\"font-family: 'Times New Roman'; background-color: #f0f4c3; color: #3e4e24; padding: 10px; border-radius: 5px; text-align: center;\">\n",
    "\n",
    "### NdArray\n",
    "\n",
    "</div>\n"
   ]
  },
  {
   "cell_type": "code",
   "execution_count": 7,
   "id": "00ed279b",
   "metadata": {
    "execution": {
     "iopub.execute_input": "2024-08-11T15:19:18.075358Z",
     "iopub.status.busy": "2024-08-11T15:19:18.074948Z",
     "iopub.status.idle": "2024-08-11T15:19:18.082282Z",
     "shell.execute_reply": "2024-08-11T15:19:18.081122Z"
    },
    "papermill": {
     "duration": 0.052865,
     "end_time": "2024-08-11T15:19:18.084654",
     "exception": false,
     "start_time": "2024-08-11T15:19:18.031789",
     "status": "completed"
    },
    "tags": []
   },
   "outputs": [
    {
     "data": {
      "text/plain": [
       "numpy.ndarray"
      ]
     },
     "execution_count": 7,
     "metadata": {},
     "output_type": "execute_result"
    }
   ],
   "source": [
    "type(a3)"
   ]
  },
  {
   "attachments": {
    "image.png": {
     "image/png": "[encoded data removed]"
    }
   },
   "cell_type": "markdown",
   "id": "53c7dd5d",
   "metadata": {
    "papermill": {
     "duration": 0.042489,
     "end_time": "2024-08-11T15:19:18.170180",
     "exception": false,
     "start_time": "2024-08-11T15:19:18.127691",
     "status": "completed"
    },
    "tags": []
   },
   "source": [
    "![image.png](attachment:image.png)"
   ]
  },
  {
   "cell_type": "markdown",
   "id": "dcb59310",
   "metadata": {
    "papermill": {
     "duration": 0.041453,
     "end_time": "2024-08-11T15:19:18.253563",
     "exception": false,
     "start_time": "2024-08-11T15:19:18.212110",
     "status": "completed"
    },
    "tags": []
   },
   "source": [
    "<div style=\"font-family: 'Times New Roman'; background-color: #d4e6f1; padding: 10px; border-radius: 5px;\">\n",
    "\n",
    "### 🧩 An ndarray Overview\n",
    "\n",
    "An `ndarray` (short for N-dimensional array) is a fundamental data structure in the NumPy library, used for scientific computing in Python. It is a **multidimensional container** of items of the same type and size. The number of dimensions is known as the array's rank, and the shape of an array is a tuple of integers giving the size of the array along each dimension.\n",
    "\n",
    "Here's a quick overview of ndarray properties and how to use them:\n",
    "\n",
    "#### Key Properties\n",
    "- **Shape** 📏: A tuple indicating the size of the array in each dimension. For example, a 2x3 matrix has a shape of (2, 3).\n",
    "- **dtype** 🔠: Describes the data type of the elements in the array, such as int32, float64, etc.\n",
    "- **Size** 🔢: The total number of elements in the array.\n",
    "- **Itemsize** 📐: The size in bytes of each element.\n",
    "- **ndim** 🌐: The number of dimensions (axes) of the array.\n",
    "\n",
    "</div>\n"
   ]
  },
  {
   "cell_type": "markdown",
   "id": "f2105a87",
   "metadata": {
    "papermill": {
     "duration": 0.041704,
     "end_time": "2024-08-11T15:19:18.338331",
     "exception": false,
     "start_time": "2024-08-11T15:19:18.296627",
     "status": "completed"
    },
    "tags": []
   },
   "source": [
    "<div style=\"font-family: 'Times New Roman'; background-color: #f0f4c3; color: #3e4e24; padding: 10px; border-radius: 5px; text-align: center;\">\n",
    "\n",
    "### Array Shape\n",
    "\n",
    "</div>\n"
   ]
  },
  {
   "cell_type": "code",
   "execution_count": 8,
   "id": "e1d76d6d",
   "metadata": {
    "execution": {
     "iopub.execute_input": "2024-08-11T15:19:18.423272Z",
     "iopub.status.busy": "2024-08-11T15:19:18.422853Z",
     "iopub.status.idle": "2024-08-11T15:19:18.430052Z",
     "shell.execute_reply": "2024-08-11T15:19:18.428839Z"
    },
    "papermill": {
     "duration": 0.052676,
     "end_time": "2024-08-11T15:19:18.432679",
     "exception": false,
     "start_time": "2024-08-11T15:19:18.380003",
     "status": "completed"
    },
    "tags": []
   },
   "outputs": [
    {
     "data": {
      "text/plain": [
       "(4,)"
      ]
     },
     "execution_count": 8,
     "metadata": {},
     "output_type": "execute_result"
    }
   ],
   "source": [
    "a1.shape"
   ]
  },
  {
   "cell_type": "code",
   "execution_count": 9,
   "id": "6005abde",
   "metadata": {
    "execution": {
     "iopub.execute_input": "2024-08-11T15:19:18.519448Z",
     "iopub.status.busy": "2024-08-11T15:19:18.518293Z",
     "iopub.status.idle": "2024-08-11T15:19:18.525742Z",
     "shell.execute_reply": "2024-08-11T15:19:18.524663Z"
    },
    "papermill": {
     "duration": 0.053409,
     "end_time": "2024-08-11T15:19:18.528128",
     "exception": false,
     "start_time": "2024-08-11T15:19:18.474719",
     "status": "completed"
    },
    "tags": []
   },
   "outputs": [
    {
     "data": {
      "text/plain": [
       "(2, 3)"
      ]
     },
     "execution_count": 9,
     "metadata": {},
     "output_type": "execute_result"
    }
   ],
   "source": [
    "a2.shape"
   ]
  },
  {
   "cell_type": "code",
   "execution_count": 10,
   "id": "e776f2ee",
   "metadata": {
    "execution": {
     "iopub.execute_input": "2024-08-11T15:19:18.613655Z",
     "iopub.status.busy": "2024-08-11T15:19:18.613244Z",
     "iopub.status.idle": "2024-08-11T15:19:18.620609Z",
     "shell.execute_reply": "2024-08-11T15:19:18.619450Z"
    },
    "papermill": {
     "duration": 0.053173,
     "end_time": "2024-08-11T15:19:18.623286",
     "exception": false,
     "start_time": "2024-08-11T15:19:18.570113",
     "status": "completed"
    },
    "tags": []
   },
   "outputs": [
    {
     "data": {
      "text/plain": [
       "(2, 3, 3)"
      ]
     },
     "execution_count": 10,
     "metadata": {},
     "output_type": "execute_result"
    }
   ],
   "source": [
    "a3.shape"
   ]
  },
  {
   "cell_type": "code",
   "execution_count": 11,
   "id": "e2b2e931",
   "metadata": {
    "execution": {
     "iopub.execute_input": "2024-08-11T15:19:18.710540Z",
     "iopub.status.busy": "2024-08-11T15:19:18.709274Z",
     "iopub.status.idle": "2024-08-11T15:19:18.717854Z",
     "shell.execute_reply": "2024-08-11T15:19:18.716779Z"
    },
    "papermill": {
     "duration": 0.055031,
     "end_time": "2024-08-11T15:19:18.720524",
     "exception": false,
     "start_time": "2024-08-11T15:19:18.665493",
     "status": "completed"
    },
    "tags": []
   },
   "outputs": [
    {
     "name": "stdout",
     "output_type": "stream",
     "text": [
      "Shape: (2, 3, 3)\n",
      "Layer 1:\n",
      "[ 1  2  3 ]\n",
      "[ 4  5  6 ]\n",
      "[ 7  8  9 ]\n",
      "\n",
      "Layer 2:\n",
      "[ 10  11  12 ]\n",
      "[ 13  14  15 ]\n",
      "[ 16  17  18 ]\n",
      "\n"
     ]
    }
   ],
   "source": [
    "# Text Based Visualization\n",
    "\n",
    "def visualize_shape_3d(array):\n",
    "    shape = array.shape\n",
    "    print(f\"Shape: {shape}\")\n",
    "    for i in range(shape[0]):\n",
    "        print(f\"Layer {i + 1}:\")\n",
    "        for j in range(shape[1]):\n",
    "            print(\"[\", end=\"\")\n",
    "            for k in range(shape[2]):\n",
    "                print(f\" {array[i, j, k]} \", end=\"\")\n",
    "            print(\"]\")\n",
    "        print()  \n",
    "\n",
    "visualize_shape_3d(a3)\n",
    "\n"
   ]
  },
  {
   "cell_type": "code",
   "execution_count": 12,
   "id": "c4425980",
   "metadata": {
    "execution": {
     "iopub.execute_input": "2024-08-11T15:19:18.807137Z",
     "iopub.status.busy": "2024-08-11T15:19:18.806736Z",
     "iopub.status.idle": "2024-08-11T15:19:19.173850Z",
     "shell.execute_reply": "2024-08-11T15:19:19.172731Z"
    },
    "papermill": {
     "duration": 0.41353,
     "end_time": "2024-08-11T15:19:19.176483",
     "exception": false,
     "start_time": "2024-08-11T15:19:18.762953",
     "status": "completed"
    },
    "tags": []
   },
   "outputs": [
    {
     "data": {
      "image/png": "[encoded data removed]",
      "text/plain": [
       "<Figure size 1500x500 with 2 Axes>"
      ]
     },
     "metadata": {},
     "output_type": "display_data"
    }
   ],
   "source": [
    "# Function to plot array shape\n",
    "import matplotlib.pyplot as plt\n",
    "\n",
    "def plot_array_shape_3d(array):\n",
    "    shape = array.shape\n",
    "    fig, axs = plt.subplots(1, shape[0], figsize=(15, 5))\n",
    "    \n",
    "    for i in range(shape[0]):\n",
    "        ax = axs[i]\n",
    "        ax.set_xticks(range(shape[2]))\n",
    "        ax.set_yticks(range(shape[1]))\n",
    "        ax.set_xticklabels(range(1, shape[2] + 1))\n",
    "        ax.set_yticklabels(range(1, shape[1] + 1))\n",
    "        \n",
    "        for j in range(shape[1]):\n",
    "            for k in range(shape[2]):\n",
    "                ax.text(k, j, array[i, j, k], ha='center', va='center', color='black')\n",
    "        \n",
    "        ax.set_xlim(-0.5, shape[2] - 0.5)\n",
    "        ax.set_ylim(-0.5, shape[1] - 0.5)\n",
    "        ax.invert_yaxis()\n",
    "        ax.set_title(f\"Layer {i + 1}\")\n",
    "        ax.grid()\n",
    "\n",
    "    fig.suptitle(f\"Shape: {shape}\", fontsize=16)\n",
    "    plt.show()\n",
    "\n",
    "# Visualize shape in plot\n",
    "plot_array_shape_3d(a3)"
   ]
  },
  {
   "cell_type": "markdown",
   "id": "f1f17cb8",
   "metadata": {
    "papermill": {
     "duration": 0.042413,
     "end_time": "2024-08-11T15:19:19.263214",
     "exception": false,
     "start_time": "2024-08-11T15:19:19.220801",
     "status": "completed"
    },
    "tags": []
   },
   "source": [
    "<div style=\"font-family: 'Times New Roman'; background-color: #f0f4c3; color: #3e4e24; padding: 10px; border-radius: 5px; text-align: center;\">\n",
    "\n",
    "### Array Dimension\n",
    "\n",
    "</div>\n"
   ]
  },
  {
   "cell_type": "markdown",
   "id": "4e0df265",
   "metadata": {
    "papermill": {
     "duration": 0.042345,
     "end_time": "2024-08-11T15:19:19.348306",
     "exception": false,
     "start_time": "2024-08-11T15:19:19.305961",
     "status": "completed"
    },
    "tags": []
   },
   "source": [
    "<div style=\"font-family: 'Times New Roman'; background-color: #d4e6f1; padding: 10px; border-radius: 5px;\">\n",
    "\n",
    "#### 📏 Array Dimension Explained\n",
    "\n",
    "The dimension of an array refers to the number of indices or axes needed to specify an element within the array.\n",
    "\n",
    "</div>\n"
   ]
  },
  {
   "cell_type": "markdown",
   "id": "02cb88bd",
   "metadata": {
    "papermill": {
     "duration": 0.042958,
     "end_time": "2024-08-11T15:19:19.434064",
     "exception": false,
     "start_time": "2024-08-11T15:19:19.391106",
     "status": "completed"
    },
    "tags": []
   },
   "source": [
    "<div style=\"font-family: 'Times New Roman'; background-color: #d4e6f1; padding: 10px; border-radius: 5px;\">\n",
    "\n",
    "A 1-dimensional array (Vector) is a simple list or vector.\n",
    "</div>\n"
   ]
  },
  {
   "cell_type": "code",
   "execution_count": 13,
   "id": "ee32f6a5",
   "metadata": {
    "execution": {
     "iopub.execute_input": "2024-08-11T15:19:19.523302Z",
     "iopub.status.busy": "2024-08-11T15:19:19.522257Z",
     "iopub.status.idle": "2024-08-11T15:19:19.529605Z",
     "shell.execute_reply": "2024-08-11T15:19:19.528253Z"
    },
    "papermill": {
     "duration": 0.054151,
     "end_time": "2024-08-11T15:19:19.532245",
     "exception": false,
     "start_time": "2024-08-11T15:19:19.478094",
     "status": "completed"
    },
    "tags": []
   },
   "outputs": [
    {
     "data": {
      "text/plain": [
       "1"
      ]
     },
     "execution_count": 13,
     "metadata": {},
     "output_type": "execute_result"
    }
   ],
   "source": [
    "a1.ndim"
   ]
  },
  {
   "cell_type": "markdown",
   "id": "4c486312",
   "metadata": {
    "papermill": {
     "duration": 0.042641,
     "end_time": "2024-08-11T15:19:19.617745",
     "exception": false,
     "start_time": "2024-08-11T15:19:19.575104",
     "status": "completed"
    },
    "tags": []
   },
   "source": [
    "<div style=\"font-family: 'Times New Roman'; background-color: #f9f9f9; padding: 10px; border-radius: 5px;\">\n",
    "\n",
    "A 2-dimensional array (Matrices) is like a table or matrix, with rows and columns.\n",
    "</div>\n"
   ]
  },
  {
   "cell_type": "code",
   "execution_count": 14,
   "id": "04e71661",
   "metadata": {
    "execution": {
     "iopub.execute_input": "2024-08-11T15:19:19.707625Z",
     "iopub.status.busy": "2024-08-11T15:19:19.706412Z",
     "iopub.status.idle": "2024-08-11T15:19:19.714018Z",
     "shell.execute_reply": "2024-08-11T15:19:19.712937Z"
    },
    "papermill": {
     "duration": 0.054438,
     "end_time": "2024-08-11T15:19:19.716402",
     "exception": false,
     "start_time": "2024-08-11T15:19:19.661964",
     "status": "completed"
    },
    "tags": []
   },
   "outputs": [
    {
     "data": {
      "text/plain": [
       "2"
      ]
     },
     "execution_count": 14,
     "metadata": {},
     "output_type": "execute_result"
    }
   ],
   "source": [
    "a2.ndim"
   ]
  },
  {
   "cell_type": "markdown",
   "id": "40d57e06",
   "metadata": {
    "papermill": {
     "duration": 0.042735,
     "end_time": "2024-08-11T15:19:19.802033",
     "exception": false,
     "start_time": "2024-08-11T15:19:19.759298",
     "status": "completed"
    },
    "tags": []
   },
   "source": [
    "<div style=\"font-family: 'Times New Roman'; background-color: #f9f9f9; padding: 10px; border-radius: 5px;\">\n",
    "\n",
    "A 3-dimensional array (Tensors) can be thought of as a stack of matrices.\n",
    "</div>\n"
   ]
  },
  {
   "cell_type": "code",
   "execution_count": 15,
   "id": "1108caa6",
   "metadata": {
    "execution": {
     "iopub.execute_input": "2024-08-11T15:19:19.890091Z",
     "iopub.status.busy": "2024-08-11T15:19:19.889656Z",
     "iopub.status.idle": "2024-08-11T15:19:19.897190Z",
     "shell.execute_reply": "2024-08-11T15:19:19.896073Z"
    },
    "papermill": {
     "duration": 0.054848,
     "end_time": "2024-08-11T15:19:19.899654",
     "exception": false,
     "start_time": "2024-08-11T15:19:19.844806",
     "status": "completed"
    },
    "tags": []
   },
   "outputs": [
    {
     "data": {
      "text/plain": [
       "3"
      ]
     },
     "execution_count": 15,
     "metadata": {},
     "output_type": "execute_result"
    }
   ],
   "source": [
    "a3.ndim"
   ]
  },
  {
   "cell_type": "markdown",
   "id": "7b108443",
   "metadata": {
    "papermill": {
     "duration": 0.044572,
     "end_time": "2024-08-11T15:19:19.988661",
     "exception": false,
     "start_time": "2024-08-11T15:19:19.944089",
     "status": "completed"
    },
    "tags": []
   },
   "source": [
    "<div style=\"font-family: 'Times New Roman'; background-color: #f0f4c3; color: #3e4e24; padding: 10px; border-radius: 5px; text-align: center;\">\n",
    "\n",
    "### Array Data Type\n",
    "\n",
    "</div>\n"
   ]
  },
  {
   "cell_type": "code",
   "execution_count": 16,
   "id": "c1eb07b0",
   "metadata": {
    "execution": {
     "iopub.execute_input": "2024-08-11T15:19:20.077430Z",
     "iopub.status.busy": "2024-08-11T15:19:20.076566Z",
     "iopub.status.idle": "2024-08-11T15:19:20.084291Z",
     "shell.execute_reply": "2024-08-11T15:19:20.083071Z"
    },
    "papermill": {
     "duration": 0.054918,
     "end_time": "2024-08-11T15:19:20.087187",
     "exception": false,
     "start_time": "2024-08-11T15:19:20.032269",
     "status": "completed"
    },
    "tags": []
   },
   "outputs": [
    {
     "data": {
      "text/plain": [
       "dtype('int64')"
      ]
     },
     "execution_count": 16,
     "metadata": {},
     "output_type": "execute_result"
    }
   ],
   "source": [
    "a1.dtype"
   ]
  },
  {
   "cell_type": "code",
   "execution_count": 17,
   "id": "9cf2ecf8",
   "metadata": {
    "execution": {
     "iopub.execute_input": "2024-08-11T15:19:20.177245Z",
     "iopub.status.busy": "2024-08-11T15:19:20.176854Z",
     "iopub.status.idle": "2024-08-11T15:19:20.184130Z",
     "shell.execute_reply": "2024-08-11T15:19:20.182975Z"
    },
    "papermill": {
     "duration": 0.054059,
     "end_time": "2024-08-11T15:19:20.186546",
     "exception": false,
     "start_time": "2024-08-11T15:19:20.132487",
     "status": "completed"
    },
    "tags": []
   },
   "outputs": [
    {
     "data": {
      "text/plain": [
       "dtype('int64')"
      ]
     },
     "execution_count": 17,
     "metadata": {},
     "output_type": "execute_result"
    }
   ],
   "source": [
    "a2.dtype"
   ]
  },
  {
   "cell_type": "code",
   "execution_count": 18,
   "id": "6aa15c95",
   "metadata": {
    "execution": {
     "iopub.execute_input": "2024-08-11T15:19:20.276097Z",
     "iopub.status.busy": "2024-08-11T15:19:20.274913Z",
     "iopub.status.idle": "2024-08-11T15:19:20.282333Z",
     "shell.execute_reply": "2024-08-11T15:19:20.281251Z"
    },
    "papermill": {
     "duration": 0.054589,
     "end_time": "2024-08-11T15:19:20.284864",
     "exception": false,
     "start_time": "2024-08-11T15:19:20.230275",
     "status": "completed"
    },
    "tags": []
   },
   "outputs": [
    {
     "data": {
      "text/plain": [
       "dtype('int64')"
      ]
     },
     "execution_count": 18,
     "metadata": {},
     "output_type": "execute_result"
    }
   ],
   "source": [
    "a3.dtype"
   ]
  },
  {
   "cell_type": "markdown",
   "id": "57247287",
   "metadata": {
    "papermill": {
     "duration": 0.044021,
     "end_time": "2024-08-11T15:19:20.373688",
     "exception": false,
     "start_time": "2024-08-11T15:19:20.329667",
     "status": "completed"
    },
    "tags": []
   },
   "source": [
    "<div style=\"font-family: 'Times New Roman'; background-color: #f0f4c3; color: #3e4e24; padding: 10px; border-radius: 5px; text-align: center;\">\n",
    "\n",
    "### Converting to DataFrame\n",
    "\n",
    "</div>"
   ]
  },
  {
   "cell_type": "code",
   "execution_count": 19,
   "id": "f5d4d611",
   "metadata": {
    "execution": {
     "iopub.execute_input": "2024-08-11T15:19:20.462923Z",
     "iopub.status.busy": "2024-08-11T15:19:20.462555Z",
     "iopub.status.idle": "2024-08-11T15:19:21.310031Z",
     "shell.execute_reply": "2024-08-11T15:19:21.308468Z"
    },
    "papermill": {
     "duration": 0.895466,
     "end_time": "2024-08-11T15:19:21.312892",
     "exception": false,
     "start_time": "2024-08-11T15:19:20.417426",
     "status": "completed"
    },
    "tags": []
   },
   "outputs": [],
   "source": [
    "import pandas as pd"
   ]
  },
  {
   "cell_type": "code",
   "execution_count": 20,
   "id": "74cfa7c6",
   "metadata": {
    "execution": {
     "iopub.execute_input": "2024-08-11T15:19:21.403461Z",
     "iopub.status.busy": "2024-08-11T15:19:21.402253Z",
     "iopub.status.idle": "2024-08-11T15:19:21.416824Z",
     "shell.execute_reply": "2024-08-11T15:19:21.415536Z"
    },
    "papermill": {
     "duration": 0.06275,
     "end_time": "2024-08-11T15:19:21.419580",
     "exception": false,
     "start_time": "2024-08-11T15:19:21.356830",
     "status": "completed"
    },
    "tags": []
   },
   "outputs": [
    {
     "data": {
      "text/html": [
       "<div>\n",
       "<style scoped>\n",
       "    .dataframe tbody tr th:only-of-type {\n",
       "        vertical-align: middle;\n",
       "    }\n",
       "\n",
       "    .dataframe tbody tr th {\n",
       "        vertical-align: top;\n",
       "    }\n",
       "\n",
       "    .dataframe thead th {\n",
       "        text-align: right;\n",
       "    }\n",
       "</style>\n",
       "<table border=\"1\" class=\"dataframe\">\n",
       "  <thead>\n",
       "    <tr style=\"text-align: right;\">\n",
       "      <th></th>\n",
       "      <th>0</th>\n",
       "    </tr>\n",
       "  </thead>\n",
       "  <tbody>\n",
       "    <tr>\n",
       "      <th>0</th>\n",
       "      <td>1</td>\n",
       "    </tr>\n",
       "    <tr>\n",
       "      <th>1</th>\n",
       "      <td>2</td>\n",
       "    </tr>\n",
       "    <tr>\n",
       "      <th>2</th>\n",
       "      <td>3</td>\n",
       "    </tr>\n",
       "    <tr>\n",
       "      <th>3</th>\n",
       "      <td>4</td>\n",
       "    </tr>\n",
       "  </tbody>\n",
       "</table>\n",
       "</div>"
      ],
      "text/plain": [
       "   0\n",
       "0  1\n",
       "1  2\n",
       "2  3\n",
       "3  4"
      ]
     },
     "execution_count": 20,
     "metadata": {},
     "output_type": "execute_result"
    }
   ],
   "source": [
    "df1=pd.DataFrame(a1)\n",
    "df1"
   ]
  },
  {
   "cell_type": "code",
   "execution_count": 21,
   "id": "cd31b8dd",
   "metadata": {
    "execution": {
     "iopub.execute_input": "2024-08-11T15:19:21.511505Z",
     "iopub.status.busy": "2024-08-11T15:19:21.510541Z",
     "iopub.status.idle": "2024-08-11T15:19:21.520897Z",
     "shell.execute_reply": "2024-08-11T15:19:21.519785Z"
    },
    "papermill": {
     "duration": 0.059887,
     "end_time": "2024-08-11T15:19:21.523752",
     "exception": false,
     "start_time": "2024-08-11T15:19:21.463865",
     "status": "completed"
    },
    "tags": []
   },
   "outputs": [
    {
     "data": {
      "text/html": [
       "<div>\n",
       "<style scoped>\n",
       "    .dataframe tbody tr th:only-of-type {\n",
       "        vertical-align: middle;\n",
       "    }\n",
       "\n",
       "    .dataframe tbody tr th {\n",
       "        vertical-align: top;\n",
       "    }\n",
       "\n",
       "    .dataframe thead th {\n",
       "        text-align: right;\n",
       "    }\n",
       "</style>\n",
       "<table border=\"1\" class=\"dataframe\">\n",
       "  <thead>\n",
       "    <tr style=\"text-align: right;\">\n",
       "      <th></th>\n",
       "      <th>0</th>\n",
       "      <th>1</th>\n",
       "      <th>2</th>\n",
       "    </tr>\n",
       "  </thead>\n",
       "  <tbody>\n",
       "    <tr>\n",
       "      <th>0</th>\n",
       "      <td>1</td>\n",
       "      <td>2</td>\n",
       "      <td>3</td>\n",
       "    </tr>\n",
       "    <tr>\n",
       "      <th>1</th>\n",
       "      <td>4</td>\n",
       "      <td>5</td>\n",
       "      <td>6</td>\n",
       "    </tr>\n",
       "  </tbody>\n",
       "</table>\n",
       "</div>"
      ],
      "text/plain": [
       "   0  1  2\n",
       "0  1  2  3\n",
       "1  4  5  6"
      ]
     },
     "execution_count": 21,
     "metadata": {},
     "output_type": "execute_result"
    }
   ],
   "source": [
    "df2=pd.DataFrame(a2)\n",
    "df2"
   ]
  },
  {
   "cell_type": "markdown",
   "id": "5d151814",
   "metadata": {
    "papermill": {
     "duration": 0.043915,
     "end_time": "2024-08-11T15:19:21.611897",
     "exception": false,
     "start_time": "2024-08-11T15:19:21.567982",
     "status": "completed"
    },
    "tags": []
   },
   "source": [
    "<div style=\"font-family: 'Times New Roman'; background-color: #f0f4c3; color: #3e4e24; padding: 10px; border-radius: 5px; text-align: center;\">\n",
    "\n",
    "### Arrays of Ones\n",
    "\n",
    "</div>\n"
   ]
  },
  {
   "cell_type": "code",
   "execution_count": 22,
   "id": "75de8b06",
   "metadata": {
    "execution": {
     "iopub.execute_input": "2024-08-11T15:19:21.702175Z",
     "iopub.status.busy": "2024-08-11T15:19:21.701463Z",
     "iopub.status.idle": "2024-08-11T15:19:21.708721Z",
     "shell.execute_reply": "2024-08-11T15:19:21.707179Z"
    },
    "papermill": {
     "duration": 0.055233,
     "end_time": "2024-08-11T15:19:21.711239",
     "exception": false,
     "start_time": "2024-08-11T15:19:21.656006",
     "status": "completed"
    },
    "tags": []
   },
   "outputs": [
    {
     "name": "stdout",
     "output_type": "stream",
     "text": [
      "1D array of ones:\n",
      "[1. 1. 1. 1. 1.]\n",
      "\n"
     ]
    }
   ],
   "source": [
    "# Create a 1D array of ones with 5 elements\n",
    "ones_1d = np.ones(5)\n",
    "print(\"1D array of ones:\")\n",
    "print(ones_1d)\n",
    "print()\n"
   ]
  },
  {
   "cell_type": "code",
   "execution_count": 23,
   "id": "364f329b",
   "metadata": {
    "execution": {
     "iopub.execute_input": "2024-08-11T15:19:21.801483Z",
     "iopub.status.busy": "2024-08-11T15:19:21.800624Z",
     "iopub.status.idle": "2024-08-11T15:19:21.808021Z",
     "shell.execute_reply": "2024-08-11T15:19:21.806629Z"
    },
    "papermill": {
     "duration": 0.055886,
     "end_time": "2024-08-11T15:19:21.810990",
     "exception": false,
     "start_time": "2024-08-11T15:19:21.755104",
     "status": "completed"
    },
    "tags": []
   },
   "outputs": [
    {
     "name": "stdout",
     "output_type": "stream",
     "text": [
      "2D array of ones:\n",
      "[[1. 1. 1. 1.]\n",
      " [1. 1. 1. 1.]\n",
      " [1. 1. 1. 1.]]\n",
      "\n"
     ]
    }
   ],
   "source": [
    "# Create a 2D array of ones with 3 rows and 4 columns\n",
    "ones_2d = np.ones((3, 4))\n",
    "print(\"2D array of ones:\")\n",
    "print(ones_2d)\n",
    "print()"
   ]
  },
  {
   "cell_type": "code",
   "execution_count": 24,
   "id": "ef5581eb",
   "metadata": {
    "execution": {
     "iopub.execute_input": "2024-08-11T15:19:21.905298Z",
     "iopub.status.busy": "2024-08-11T15:19:21.904896Z",
     "iopub.status.idle": "2024-08-11T15:19:21.911694Z",
     "shell.execute_reply": "2024-08-11T15:19:21.910540Z"
    },
    "papermill": {
     "duration": 0.057602,
     "end_time": "2024-08-11T15:19:21.914531",
     "exception": false,
     "start_time": "2024-08-11T15:19:21.856929",
     "status": "completed"
    },
    "tags": []
   },
   "outputs": [
    {
     "name": "stdout",
     "output_type": "stream",
     "text": [
      "3D array of ones (int):\n",
      "[[[1 1 1 1]\n",
      "  [1 1 1 1]\n",
      "  [1 1 1 1]]\n",
      "\n",
      " [[1 1 1 1]\n",
      "  [1 1 1 1]\n",
      "  [1 1 1 1]]]\n",
      "\n"
     ]
    }
   ],
   "source": [
    "# Create a 3D array of ones with shape (2, 3, 4) and elements of integer type\n",
    "ones_3d_int = np.ones((2, 3, 4), dtype=np.int32)\n",
    "print(\"3D array of ones (int):\")\n",
    "print(ones_3d_int)\n",
    "print()"
   ]
  },
  {
   "cell_type": "markdown",
   "id": "8c1cc299",
   "metadata": {
    "papermill": {
     "duration": 0.05431,
     "end_time": "2024-08-11T15:19:22.019540",
     "exception": false,
     "start_time": "2024-08-11T15:19:21.965230",
     "status": "completed"
    },
    "tags": []
   },
   "source": [
    "<div style=\"font-family: 'Times New Roman'; background-color: #f0f4c3; color: #3e4e24; padding: 10px; border-radius: 5px; text-align: center;\">\n",
    "\n",
    "### Arrays of Zeros\n",
    "\n",
    "</div>\n"
   ]
  },
  {
   "cell_type": "code",
   "execution_count": 25,
   "id": "6efa75db",
   "metadata": {
    "execution": {
     "iopub.execute_input": "2024-08-11T15:19:22.120132Z",
     "iopub.status.busy": "2024-08-11T15:19:22.119590Z",
     "iopub.status.idle": "2024-08-11T15:19:22.128131Z",
     "shell.execute_reply": "2024-08-11T15:19:22.126462Z"
    },
    "papermill": {
     "duration": 0.069671,
     "end_time": "2024-08-11T15:19:22.134416",
     "exception": false,
     "start_time": "2024-08-11T15:19:22.064745",
     "status": "completed"
    },
    "tags": []
   },
   "outputs": [
    {
     "name": "stdout",
     "output_type": "stream",
     "text": [
      "1D array of zeros:\n",
      "[0. 0. 0. 0. 0.]\n",
      "\n"
     ]
    }
   ],
   "source": [
    "# Create a 1D array of zeros\n",
    "zeros_1d = np.zeros(5)\n",
    "print(\"1D array of zeros:\")\n",
    "print(zeros_1d)\n",
    "print()\n"
   ]
  },
  {
   "cell_type": "code",
   "execution_count": 26,
   "id": "6994c83d",
   "metadata": {
    "execution": {
     "iopub.execute_input": "2024-08-11T15:19:22.258496Z",
     "iopub.status.busy": "2024-08-11T15:19:22.257767Z",
     "iopub.status.idle": "2024-08-11T15:19:22.264671Z",
     "shell.execute_reply": "2024-08-11T15:19:22.263430Z"
    },
    "papermill": {
     "duration": 0.068071,
     "end_time": "2024-08-11T15:19:22.267538",
     "exception": false,
     "start_time": "2024-08-11T15:19:22.199467",
     "status": "completed"
    },
    "tags": []
   },
   "outputs": [
    {
     "name": "stdout",
     "output_type": "stream",
     "text": [
      "2D array of zeros:\n",
      "[[0. 0. 0. 0.]\n",
      " [0. 0. 0. 0.]\n",
      " [0. 0. 0. 0.]]\n",
      "\n"
     ]
    }
   ],
   "source": [
    "# Create a 2D array of zeros\n",
    "zeros_2d = np.zeros((3, 4))\n",
    "print(\"2D array of zeros:\")\n",
    "print(zeros_2d)\n",
    "print()\n"
   ]
  },
  {
   "cell_type": "code",
   "execution_count": 27,
   "id": "666970fa",
   "metadata": {
    "execution": {
     "iopub.execute_input": "2024-08-11T15:19:22.376315Z",
     "iopub.status.busy": "2024-08-11T15:19:22.375367Z",
     "iopub.status.idle": "2024-08-11T15:19:22.383395Z",
     "shell.execute_reply": "2024-08-11T15:19:22.382257Z"
    },
    "papermill": {
     "duration": 0.073509,
     "end_time": "2024-08-11T15:19:22.386686",
     "exception": false,
     "start_time": "2024-08-11T15:19:22.313177",
     "status": "completed"
    },
    "tags": []
   },
   "outputs": [
    {
     "name": "stdout",
     "output_type": "stream",
     "text": [
      "3D array of zeros (int):\n",
      "[[[0 0 0 0]\n",
      "  [0 0 0 0]\n",
      "  [0 0 0 0]]\n",
      "\n",
      " [[0 0 0 0]\n",
      "  [0 0 0 0]\n",
      "  [0 0 0 0]]]\n",
      "\n"
     ]
    }
   ],
   "source": [
    "# Create a 3D array of zeros with integer type\n",
    "zeros_3d_int = np.zeros((2, 3, 4), dtype=np.int32)\n",
    "print(\"3D array of zeros (int):\")\n",
    "print(zeros_3d_int)\n",
    "print()\n",
    "\n"
   ]
  },
  {
   "cell_type": "markdown",
   "id": "6934dd58",
   "metadata": {
    "papermill": {
     "duration": 0.044342,
     "end_time": "2024-08-11T15:19:22.478192",
     "exception": false,
     "start_time": "2024-08-11T15:19:22.433850",
     "status": "completed"
    },
    "tags": []
   },
   "source": [
    "<div style=\"font-family: 'Times New Roman'; background-color: #f0f4c3; color: #3e4e24; padding: 10px; border-radius: 5px; text-align: center;\">\n",
    "\n",
    "### Arrange()\n",
    "\n",
    "</div>\n"
   ]
  },
  {
   "cell_type": "markdown",
   "id": "b3fd5076",
   "metadata": {
    "papermill": {
     "duration": 0.044134,
     "end_time": "2024-08-11T15:19:22.566956",
     "exception": false,
     "start_time": "2024-08-11T15:19:22.522822",
     "status": "completed"
    },
    "tags": []
   },
   "source": [
    "<div style=\"font-family: 'Times New Roman'; background-color: #d4e6f1; padding: 10px; border-radius: 5px;\">\n",
    "\n",
    "### 🚀 Introduction to `np.arange()`\n",
    "\n",
    "The `np.arange()` function in NumPy is a versatile and commonly used function to create arrays with evenly spaced values within a specified range. It is similar to Python's built-in `range()` function, but it returns a NumPy array instead of a list. This function is particularly useful for creating sequences of numbers for various numerical and data analysis tasks.\n",
    "\n",
    "#### 🛠️ Syntax\n",
    "```python\n",
    "numpy.arange([start, ]stop, [step, ]dtype=None, *, like=None)\n",
    "    \n",
    "\n",
    "- **start**: (Optional) The starting value of the interval. If omitted, defaults to 0.\n",
    "- **stop**: The end value of the interval (exclusive).\n",
    "- **step**: (Optional) The spacing between values. If omitted, defaults to 1.\n",
    "- **dtype**: (Optional) The desired data type of the output array.\n",
    "- **like**: (Optional) Reference object to allow the creation of arrays which are not NumPy arrays.\n",
    "\n",
    "\n",
    "</div>"
   ]
  },
  {
   "attachments": {
    "image.png": {
     "image/png": "[encoded data removed]"
    }
   },
   "cell_type": "markdown",
   "id": "3fca51e7",
   "metadata": {
    "papermill": {
     "duration": 0.044167,
     "end_time": "2024-08-11T15:19:22.655687",
     "exception": false,
     "start_time": "2024-08-11T15:19:22.611520",
     "status": "completed"
    },
    "tags": []
   },
   "source": [
    "![image.png](attachment:image.png)"
   ]
  },
  {
   "cell_type": "markdown",
   "id": "f3961f6a",
   "metadata": {
    "papermill": {
     "duration": 0.044085,
     "end_time": "2024-08-11T15:19:22.744172",
     "exception": false,
     "start_time": "2024-08-11T15:19:22.700087",
     "status": "completed"
    },
    "tags": []
   },
   "source": [
    "Source:Internet"
   ]
  },
  {
   "cell_type": "code",
   "execution_count": 28,
   "id": "840556c3",
   "metadata": {
    "execution": {
     "iopub.execute_input": "2024-08-11T15:19:22.835703Z",
     "iopub.status.busy": "2024-08-11T15:19:22.834523Z",
     "iopub.status.idle": "2024-08-11T15:19:22.842212Z",
     "shell.execute_reply": "2024-08-11T15:19:22.840899Z"
    },
    "papermill": {
     "duration": 0.056205,
     "end_time": "2024-08-11T15:19:22.844717",
     "exception": false,
     "start_time": "2024-08-11T15:19:22.788512",
     "status": "completed"
    },
    "tags": []
   },
   "outputs": [
    {
     "name": "stdout",
     "output_type": "stream",
     "text": [
      "Array using np.arange(10):\n",
      "[0 1 2 3 4 5 6 7 8 9]\n",
      "\n"
     ]
    }
   ],
   "source": [
    "# Create an array with values from 0 to 9\n",
    "array_arange = np.arange(10)\n",
    "print(\"Array using np.arange(10):\")\n",
    "print(array_arange)\n",
    "print()"
   ]
  },
  {
   "cell_type": "code",
   "execution_count": 29,
   "id": "58e74448",
   "metadata": {
    "execution": {
     "iopub.execute_input": "2024-08-11T15:19:22.937049Z",
     "iopub.status.busy": "2024-08-11T15:19:22.936615Z",
     "iopub.status.idle": "2024-08-11T15:19:22.943716Z",
     "shell.execute_reply": "2024-08-11T15:19:22.942500Z"
    },
    "papermill": {
     "duration": 0.057316,
     "end_time": "2024-08-11T15:19:22.946958",
     "exception": false,
     "start_time": "2024-08-11T15:19:22.889642",
     "status": "completed"
    },
    "tags": []
   },
   "outputs": [
    {
     "name": "stdout",
     "output_type": "stream",
     "text": [
      "Array using np.arange(1, 10, 2):\n",
      "[1 3 5 7 9]\n",
      "\n"
     ]
    }
   ],
   "source": [
    "# Create an array with values from 1 to 9 with a step of 2\n",
    "array_arange_step = np.arange(1, 10, 2)\n",
    "print(\"Array using np.arange(1, 10, 2):\")\n",
    "print(array_arange_step)\n",
    "print()"
   ]
  },
  {
   "cell_type": "markdown",
   "id": "5f2dfb5c",
   "metadata": {
    "papermill": {
     "duration": 0.045109,
     "end_time": "2024-08-11T15:19:23.039272",
     "exception": false,
     "start_time": "2024-08-11T15:19:22.994163",
     "status": "completed"
    },
    "tags": []
   },
   "source": [
    "\n",
    "<div style=\"font-family: 'Times New Roman'; background-color: #f0f4c3; color: #3e4e24; padding: 10px; border-radius: 5px; text-align: center;\">\n",
    "\n",
    "### Array with Random Values\n",
    "\n",
    "</div>\n"
   ]
  },
  {
   "cell_type": "markdown",
   "id": "3e2e9b0c",
   "metadata": {
    "papermill": {
     "duration": 0.044993,
     "end_time": "2024-08-11T15:19:23.129681",
     "exception": false,
     "start_time": "2024-08-11T15:19:23.084688",
     "status": "completed"
    },
    "tags": []
   },
   "source": [
    "<div style=\"font-family: 'Times New Roman'; background-color: #d4e6f1; padding: 10px; border-radius: 5px;\">\n",
    "\n",
    "### 🎲 Introduction to `np.random.random()`\n",
    "\n",
    "The `np.random.random()` function in NumPy is used to generate an array of random numbers drawn from a uniform distribution over the half-open interval `[0.0, 1.0)`. This function is commonly used for initializing arrays with random values, simulating random events, and various other tasks that require randomness in numerical computations.\n",
    "\n",
    "#### 🛠️ Syntax\n",
    "```python\n",
    "numpy.random.random(size=None)\n",
    "\n",
    "- **size**: (Optional) The shape of the array to be created. If `size` is `None` (default), a single float is returned.\n",
    "\n",
    "</div>"
   ]
  },
  {
   "attachments": {
    "image.png": {
     "image/png": "[encoded data removed]"
    }
   },
   "cell_type": "markdown",
   "id": "b5ff60cd",
   "metadata": {
    "papermill": {
     "duration": 0.045246,
     "end_time": "2024-08-11T15:19:23.221573",
     "exception": false,
     "start_time": "2024-08-11T15:19:23.176327",
     "status": "completed"
    },
    "tags": []
   },
   "source": [
    "![image.png](attachment:image.png)"
   ]
  },
  {
   "cell_type": "code",
   "execution_count": 30,
   "id": "c44637d3",
   "metadata": {
    "execution": {
     "iopub.execute_input": "2024-08-11T15:19:23.313819Z",
     "iopub.status.busy": "2024-08-11T15:19:23.313398Z",
     "iopub.status.idle": "2024-08-11T15:19:23.320566Z",
     "shell.execute_reply": "2024-08-11T15:19:23.319387Z"
    },
    "papermill": {
     "duration": 0.056208,
     "end_time": "2024-08-11T15:19:23.323288",
     "exception": false,
     "start_time": "2024-08-11T15:19:23.267080",
     "status": "completed"
    },
    "tags": []
   },
   "outputs": [
    {
     "name": "stdout",
     "output_type": "stream",
     "text": [
      "Array with random values (shape (3, 4)):\n",
      "[[0.79116002 0.3691519  0.1106744  0.17429703]\n",
      " [0.85679697 0.10144434 0.80532905 0.32539732]\n",
      " [0.19242427 0.2185551  0.27763294 0.57746158]]\n",
      "\n"
     ]
    }
   ],
   "source": [
    "# Create an array of shape (3, 4) with random values between 0 and 1\n",
    "array_random = np.random.random((3, 4))\n",
    "print(\"Array with random values (shape (3, 4)):\")\n",
    "print(array_random)\n",
    "print()\n"
   ]
  },
  {
   "cell_type": "code",
   "execution_count": 31,
   "id": "e452baea",
   "metadata": {
    "execution": {
     "iopub.execute_input": "2024-08-11T15:19:23.417022Z",
     "iopub.status.busy": "2024-08-11T15:19:23.416569Z",
     "iopub.status.idle": "2024-08-11T15:19:23.425185Z",
     "shell.execute_reply": "2024-08-11T15:19:23.424043Z"
    },
    "papermill": {
     "duration": 0.05851,
     "end_time": "2024-08-11T15:19:23.427849",
     "exception": false,
     "start_time": "2024-08-11T15:19:23.369339",
     "status": "completed"
    },
    "tags": []
   },
   "outputs": [
    {
     "name": "stdout",
     "output_type": "stream",
     "text": [
      "Array with random integers (shape (2, 3)):\n",
      "[[6 1 3 5]\n",
      " [7 2 3 2]\n",
      " [1 9 4 4]\n",
      " [2 7 4 6]\n",
      " [8 9 5 2]]\n",
      "\n"
     ]
    }
   ],
   "source": [
    "# Create an array of shape (2, 3) with random integers between 1 and 10\n",
    "array_random_int = np.random.randint(1, 10, size=(5, 4))\n",
    "print(\"Array with random integers (shape (2, 3)):\")\n",
    "print(array_random_int)\n",
    "print()\n"
   ]
  },
  {
   "cell_type": "code",
   "execution_count": 32,
   "id": "08a52a50",
   "metadata": {
    "execution": {
     "iopub.execute_input": "2024-08-11T15:19:23.520985Z",
     "iopub.status.busy": "2024-08-11T15:19:23.519950Z",
     "iopub.status.idle": "2024-08-11T15:19:23.527081Z",
     "shell.execute_reply": "2024-08-11T15:19:23.525896Z"
    },
    "papermill": {
     "duration": 0.056745,
     "end_time": "2024-08-11T15:19:23.529885",
     "exception": false,
     "start_time": "2024-08-11T15:19:23.473140",
     "status": "completed"
    },
    "tags": []
   },
   "outputs": [
    {
     "name": "stdout",
     "output_type": "stream",
     "text": [
      "Array with random values from a normal distribution (shape (3, 3)):\n",
      "[[-0.85111502 -1.30145706  0.66726987]\n",
      " [-0.73881166 -0.54866485 -0.36348472]\n",
      " [-0.38731736  1.84818152  0.20580805]]\n",
      "\n"
     ]
    }
   ],
   "source": [
    "# Create an array of shape (3, 3) with random values from a normal distribution (mean=0, std=1)\n",
    "array_random_normal = np.random.randn(3, 3)\n",
    "print(\"Array with random values from a normal distribution (shape (3, 3)):\")\n",
    "print(array_random_normal)\n",
    "print()\n"
   ]
  },
  {
   "cell_type": "code",
   "execution_count": 33,
   "id": "9ff70f38",
   "metadata": {
    "execution": {
     "iopub.execute_input": "2024-08-11T15:19:23.621980Z",
     "iopub.status.busy": "2024-08-11T15:19:23.621572Z",
     "iopub.status.idle": "2024-08-11T15:19:23.628169Z",
     "shell.execute_reply": "2024-08-11T15:19:23.626968Z"
    },
    "papermill": {
     "duration": 0.056174,
     "end_time": "2024-08-11T15:19:23.631127",
     "exception": false,
     "start_time": "2024-08-11T15:19:23.574953",
     "status": "completed"
    },
    "tags": []
   },
   "outputs": [
    {
     "name": "stdout",
     "output_type": "stream",
     "text": [
      "[[0.08095773 0.84265756 0.50060367 0.68814334]\n",
      " [0.51602001 0.8945686  0.17121775 0.95045737]]\n",
      "\n"
     ]
    }
   ],
   "source": [
    "#Another Method\n",
    "arr_rand=np.random.rand(2,4)\n",
    "print(arr_rand)\n",
    "print()"
   ]
  },
  {
   "cell_type": "code",
   "execution_count": 34,
   "id": "635429f3",
   "metadata": {
    "execution": {
     "iopub.execute_input": "2024-08-11T15:19:23.725947Z",
     "iopub.status.busy": "2024-08-11T15:19:23.725222Z",
     "iopub.status.idle": "2024-08-11T15:19:23.732784Z",
     "shell.execute_reply": "2024-08-11T15:19:23.731593Z"
    },
    "papermill": {
     "duration": 0.05775,
     "end_time": "2024-08-11T15:19:23.735693",
     "exception": false,
     "start_time": "2024-08-11T15:19:23.677943",
     "status": "completed"
    },
    "tags": []
   },
   "outputs": [
    {
     "name": "stdout",
     "output_type": "stream",
     "text": [
      "2D array of random floats (shape (3, 4)) with seed 42:\n",
      "[[0.64414354 0.38074849 0.66304791 0.16365073]\n",
      " [0.96260781 0.34666184 0.99175099 0.2350579 ]\n",
      " [0.58569427 0.4066901  0.13623432 0.54413629]]\n"
     ]
    }
   ],
   "source": [
    "# Set the seed for reproducibility\n",
    "np.random.seed(30)\n",
    "\n",
    "# Generate a 2D array with shape (3, 4) containing random floats\n",
    "random_array_2d = np.random.random((3, 4))\n",
    "print(\"2D array of random floats (shape (3, 4)) with seed 42:\")\n",
    "print(random_array_2d)"
   ]
  },
  {
   "cell_type": "markdown",
   "id": "797e30c7",
   "metadata": {
    "papermill": {
     "duration": 0.046146,
     "end_time": "2024-08-11T15:19:23.828787",
     "exception": false,
     "start_time": "2024-08-11T15:19:23.782641",
     "status": "completed"
    },
    "tags": []
   },
   "source": [
    "<div style=\"font-family: 'Times New Roman'; background-color: #f0f4c3; color: #3e4e24; padding: 10px; border-radius: 5px; text-align: center;\">\n",
    "\n",
    "### Unique Values\n",
    "\n",
    "</div>\n"
   ]
  },
  {
   "cell_type": "code",
   "execution_count": 35,
   "id": "5db00644",
   "metadata": {
    "execution": {
     "iopub.execute_input": "2024-08-11T15:19:23.923309Z",
     "iopub.status.busy": "2024-08-11T15:19:23.922921Z",
     "iopub.status.idle": "2024-08-11T15:19:23.929001Z",
     "shell.execute_reply": "2024-08-11T15:19:23.927670Z"
    },
    "papermill": {
     "duration": 0.056784,
     "end_time": "2024-08-11T15:19:23.931565",
     "exception": false,
     "start_time": "2024-08-11T15:19:23.874781",
     "status": "completed"
    },
    "tags": []
   },
   "outputs": [],
   "source": [
    "a2=np.array([[1,2,3],\n",
    "             [4,3,1]])"
   ]
  },
  {
   "cell_type": "code",
   "execution_count": 36,
   "id": "41648a24",
   "metadata": {
    "execution": {
     "iopub.execute_input": "2024-08-11T15:19:24.029265Z",
     "iopub.status.busy": "2024-08-11T15:19:24.027986Z",
     "iopub.status.idle": "2024-08-11T15:19:24.035308Z",
     "shell.execute_reply": "2024-08-11T15:19:24.034251Z"
    },
    "papermill": {
     "duration": 0.059688,
     "end_time": "2024-08-11T15:19:24.037642",
     "exception": false,
     "start_time": "2024-08-11T15:19:23.977954",
     "status": "completed"
    },
    "tags": []
   },
   "outputs": [
    {
     "data": {
      "text/plain": [
       "array([[1, 2, 3],\n",
       "       [4, 3, 1]])"
      ]
     },
     "execution_count": 36,
     "metadata": {},
     "output_type": "execute_result"
    }
   ],
   "source": [
    "a2"
   ]
  },
  {
   "cell_type": "code",
   "execution_count": 37,
   "id": "47be8908",
   "metadata": {
    "execution": {
     "iopub.execute_input": "2024-08-11T15:19:24.131403Z",
     "iopub.status.busy": "2024-08-11T15:19:24.130929Z",
     "iopub.status.idle": "2024-08-11T15:19:24.138534Z",
     "shell.execute_reply": "2024-08-11T15:19:24.137450Z"
    },
    "papermill": {
     "duration": 0.057446,
     "end_time": "2024-08-11T15:19:24.140970",
     "exception": false,
     "start_time": "2024-08-11T15:19:24.083524",
     "status": "completed"
    },
    "tags": []
   },
   "outputs": [
    {
     "data": {
      "text/plain": [
       "array([1, 2, 3, 4])"
      ]
     },
     "execution_count": 37,
     "metadata": {},
     "output_type": "execute_result"
    }
   ],
   "source": [
    "np.unique(a2)"
   ]
  },
  {
   "cell_type": "markdown",
   "id": "d19ae312",
   "metadata": {
    "papermill": {
     "duration": 0.045949,
     "end_time": "2024-08-11T15:19:24.234127",
     "exception": false,
     "start_time": "2024-08-11T15:19:24.188178",
     "status": "completed"
    },
    "tags": []
   },
   "source": [
    "<div style=\"font-family: 'Times New Roman'; background-color: #f0f4c3; color: #3e4e24; padding: 10px; border-radius: 5px; text-align: center;\">\n",
    "\n",
    "### Array Slicing\n",
    "\n",
    "</div>\n"
   ]
  },
  {
   "cell_type": "markdown",
   "id": "ae89617e",
   "metadata": {
    "papermill": {
     "duration": 0.045188,
     "end_time": "2024-08-11T15:19:24.325076",
     "exception": false,
     "start_time": "2024-08-11T15:19:24.279888",
     "status": "completed"
    },
    "tags": []
   },
   "source": [
    "<div style=\"font-family: 'Times New Roman'; background-color: #d4e6f1; padding: 10px; border-radius: 5px;\">\n",
    "\n",
    "### 🔪 Introduction to NumPy Array Slicing\n",
    "\n",
    "Slicing in NumPy allows you to extract specific portions of an array. This is particularly useful when you want to work with a subset of data or when performing operations on specific parts of an array. Slicing in NumPy is similar to slicing in Python lists, but with the added benefit of being able to slice multi-dimensional arrays.\n",
    "\n",
    "#### 🛠️ Syntax\n",
    "```python\n",
    "array[start:stop:step]\n",
    "</div>"
   ]
  },
  {
   "cell_type": "code",
   "execution_count": 38,
   "id": "bc2557dc",
   "metadata": {
    "execution": {
     "iopub.execute_input": "2024-08-11T15:19:24.419795Z",
     "iopub.status.busy": "2024-08-11T15:19:24.418758Z",
     "iopub.status.idle": "2024-08-11T15:19:24.425681Z",
     "shell.execute_reply": "2024-08-11T15:19:24.424546Z"
    },
    "papermill": {
     "duration": 0.057523,
     "end_time": "2024-08-11T15:19:24.428810",
     "exception": false,
     "start_time": "2024-08-11T15:19:24.371287",
     "status": "completed"
    },
    "tags": []
   },
   "outputs": [
    {
     "name": "stdout",
     "output_type": "stream",
     "text": [
      "First 5 elements:\n",
      "[0 1 2 3 4]\n"
     ]
    }
   ],
   "source": [
    "# Create a 1D NumPy array\n",
    "array_1d = np.array([0, 1, 2, 3, 4, 5, 6, 7, 8, 9])\n",
    "\n",
    "# Slice the first 5 elements\n",
    "slice_1=array_1d[:5]\n",
    "print(\"First 5 elements:\")\n",
    "print(slice_1)"
   ]
  },
  {
   "cell_type": "code",
   "execution_count": 39,
   "id": "01c4d1c2",
   "metadata": {
    "execution": {
     "iopub.execute_input": "2024-08-11T15:19:24.522257Z",
     "iopub.status.busy": "2024-08-11T15:19:24.521881Z",
     "iopub.status.idle": "2024-08-11T15:19:24.528560Z",
     "shell.execute_reply": "2024-08-11T15:19:24.527473Z"
    },
    "papermill": {
     "duration": 0.056597,
     "end_time": "2024-08-11T15:19:24.531440",
     "exception": false,
     "start_time": "2024-08-11T15:19:24.474843",
     "status": "completed"
    },
    "tags": []
   },
   "outputs": [
    {
     "name": "stdout",
     "output_type": "stream",
     "text": [
      "Elements from index 2 to 7:\n",
      "[2 3 4 5 6 7]\n"
     ]
    }
   ],
   "source": [
    "# Slice elements from index 2 to 7\n",
    "slice_2 = array_1d[2:8]\n",
    "print(\"Elements from index 2 to 7:\")\n",
    "print(slice_2)"
   ]
  },
  {
   "cell_type": "code",
   "execution_count": 40,
   "id": "b89e67fb",
   "metadata": {
    "execution": {
     "iopub.execute_input": "2024-08-11T15:19:24.627126Z",
     "iopub.status.busy": "2024-08-11T15:19:24.626724Z",
     "iopub.status.idle": "2024-08-11T15:19:24.633327Z",
     "shell.execute_reply": "2024-08-11T15:19:24.632150Z"
    },
    "papermill": {
     "duration": 0.057294,
     "end_time": "2024-08-11T15:19:24.635957",
     "exception": false,
     "start_time": "2024-08-11T15:19:24.578663",
     "status": "completed"
    },
    "tags": []
   },
   "outputs": [
    {
     "name": "stdout",
     "output_type": "stream",
     "text": [
      "Elements with a step of 2:\n",
      "[0 2 4 6 8]\n"
     ]
    }
   ],
   "source": [
    "# Slice elements with a step of 2\n",
    "slice_3 = array_1d[::2]\n",
    "print(\"Elements with a step of 2:\")\n",
    "print(slice_3)"
   ]
  },
  {
   "cell_type": "code",
   "execution_count": 41,
   "id": "d672bdac",
   "metadata": {
    "execution": {
     "iopub.execute_input": "2024-08-11T15:19:24.730067Z",
     "iopub.status.busy": "2024-08-11T15:19:24.729336Z",
     "iopub.status.idle": "2024-08-11T15:19:24.736432Z",
     "shell.execute_reply": "2024-08-11T15:19:24.735230Z"
    },
    "papermill": {
     "duration": 0.057093,
     "end_time": "2024-08-11T15:19:24.739139",
     "exception": false,
     "start_time": "2024-08-11T15:19:24.682046",
     "status": "completed"
    },
    "tags": []
   },
   "outputs": [
    {
     "name": "stdout",
     "output_type": "stream",
     "text": [
      "[[ 1  2  3  4]\n",
      " [ 5  6  7  8]\n",
      " [ 9 10 11 12]\n",
      " [13 14 15 16]]\n"
     ]
    }
   ],
   "source": [
    "# Create a 2D NumPy array\n",
    "array_2d = np.array([[1, 2, 3, 4],\n",
    "                     [5, 6, 7, 8],\n",
    "                     [9, 10, 11, 12],\n",
    "                     [13, 14, 15, 16]])\n",
    "print(array_2d)"
   ]
  },
  {
   "cell_type": "code",
   "execution_count": 42,
   "id": "f79e3e3b",
   "metadata": {
    "execution": {
     "iopub.execute_input": "2024-08-11T15:19:24.833931Z",
     "iopub.status.busy": "2024-08-11T15:19:24.833211Z",
     "iopub.status.idle": "2024-08-11T15:19:24.840689Z",
     "shell.execute_reply": "2024-08-11T15:19:24.838806Z"
    },
    "papermill": {
     "duration": 0.058051,
     "end_time": "2024-08-11T15:19:24.843290",
     "exception": false,
     "start_time": "2024-08-11T15:19:24.785239",
     "status": "completed"
    },
    "tags": []
   },
   "outputs": [
    {
     "name": "stdout",
     "output_type": "stream",
     "text": [
      "First two rows and first three columns:\n",
      "[[1 2 3]\n",
      " [5 6 7]]\n"
     ]
    }
   ],
   "source": [
    "# Slice the first two rows and first three columns\n",
    "slice_2d_1 = array_2d[:2, :3]\n",
    "print(\"First two rows and first three columns:\")\n",
    "print(slice_2d_1)\n"
   ]
  },
  {
   "cell_type": "code",
   "execution_count": 43,
   "id": "0c88f1cf",
   "metadata": {
    "execution": {
     "iopub.execute_input": "2024-08-11T15:19:24.938443Z",
     "iopub.status.busy": "2024-08-11T15:19:24.937359Z",
     "iopub.status.idle": "2024-08-11T15:19:24.944324Z",
     "shell.execute_reply": "2024-08-11T15:19:24.943150Z"
    },
    "papermill": {
     "duration": 0.057344,
     "end_time": "2024-08-11T15:19:24.947174",
     "exception": false,
     "start_time": "2024-08-11T15:19:24.889830",
     "status": "completed"
    },
    "tags": []
   },
   "outputs": [
    {
     "name": "stdout",
     "output_type": "stream",
     "text": [
      "Last two rows and last two columns:\n",
      "[[11 12]\n",
      " [15 16]]\n"
     ]
    }
   ],
   "source": [
    "# Slice the last two rows and last two columns\n",
    "slice_2d_2 = array_2d[2:, 2:]\n",
    "print(\"Last two rows and last two columns:\")\n",
    "print(slice_2d_2)\n"
   ]
  },
  {
   "cell_type": "code",
   "execution_count": 44,
   "id": "a89f00e6",
   "metadata": {
    "execution": {
     "iopub.execute_input": "2024-08-11T15:19:25.044360Z",
     "iopub.status.busy": "2024-08-11T15:19:25.043626Z",
     "iopub.status.idle": "2024-08-11T15:19:25.049701Z",
     "shell.execute_reply": "2024-08-11T15:19:25.048671Z"
    },
    "papermill": {
     "duration": 0.058129,
     "end_time": "2024-08-11T15:19:25.052651",
     "exception": false,
     "start_time": "2024-08-11T15:19:24.994522",
     "status": "completed"
    },
    "tags": []
   },
   "outputs": [
    {
     "name": "stdout",
     "output_type": "stream",
     "text": [
      "Every other row and column:\n",
      "[[ 1  3]\n",
      " [ 9 11]]\n"
     ]
    }
   ],
   "source": [
    "# Slice every other row and column\n",
    "slice_2d_3 = array_2d[::2, ::2]\n",
    "print(\"Every other row and column:\")\n",
    "print(slice_2d_3)\n"
   ]
  },
  {
   "cell_type": "code",
   "execution_count": 45,
   "id": "f3c58160",
   "metadata": {
    "execution": {
     "iopub.execute_input": "2024-08-11T15:19:25.148197Z",
     "iopub.status.busy": "2024-08-11T15:19:25.147791Z",
     "iopub.status.idle": "2024-08-11T15:19:25.154891Z",
     "shell.execute_reply": "2024-08-11T15:19:25.153781Z"
    },
    "papermill": {
     "duration": 0.058566,
     "end_time": "2024-08-11T15:19:25.157806",
     "exception": false,
     "start_time": "2024-08-11T15:19:25.099240",
     "status": "completed"
    },
    "tags": []
   },
   "outputs": [
    {
     "name": "stdout",
     "output_type": "stream",
     "text": [
      "[[[[4 6 0 6 0]\n",
      "   [7 4 2 1 7]\n",
      "   [1 9 8 5 9]\n",
      "   [7 9 1 8 7]]\n",
      "\n",
      "  [[4 6 8 9 6]\n",
      "   [0 7 5 9 3]\n",
      "   [1 4 2 3 9]\n",
      "   [8 0 7 1 9]]\n",
      "\n",
      "  [[4 2 1 9 7]\n",
      "   [6 0 7 0 3]\n",
      "   [6 7 3 3 5]\n",
      "   [7 4 7 3 6]]]\n",
      "\n",
      "\n",
      " [[[7 2 3 2 7]\n",
      "   [9 3 6 3 6]\n",
      "   [4 2 6 2 9]\n",
      "   [9 3 0 8 9]]\n",
      "\n",
      "  [[2 1 5 7 9]\n",
      "   [5 1 4 6 8]\n",
      "   [6 7 0 0 2]\n",
      "   [9 6 1 3 2]]\n",
      "\n",
      "  [[8 5 6 4 9]\n",
      "   [2 7 6 1 3]\n",
      "   [3 3 6 0 1]\n",
      "   [8 1 3 5 6]]]]\n"
     ]
    }
   ],
   "source": [
    "# For 4 dimensional Array\n",
    "arr1=np.random.randint(10,size=(2,3,4,5))\n",
    "print(arr1)"
   ]
  },
  {
   "cell_type": "markdown",
   "id": "26aa041a",
   "metadata": {
    "papermill": {
     "duration": 0.046404,
     "end_time": "2024-08-11T15:19:25.252707",
     "exception": false,
     "start_time": "2024-08-11T15:19:25.206303",
     "status": "completed"
    },
    "tags": []
   },
   "source": [
    "\n",
    "<div style=\"font-family: 'Times New Roman'; background-color: #f9f9f9; padding: 10px; border-radius: 5px;\">\n",
    " Breaking Down the Shape `(2, 3, 4, 5)`\n",
    "\n",
    "- **First Dimension (2)**: The array contains 2 elements along the first axis, meaning it has 2 \"blocks\" or \"sub-arrays.\"\n",
    "- **Second Dimension (3)**: Each of these 2 sub-arrays contains 3 rows.\n",
    "- **Third Dimension (4)**: Each of these 3 rows contains 4 rows.\n",
    "- **Fourth Dimension (5)**: Each of these 4 rows contains 5 columns.\n",
    "</div>"
   ]
  },
  {
   "cell_type": "markdown",
   "id": "5bd23671",
   "metadata": {
    "papermill": {
     "duration": 0.046219,
     "end_time": "2024-08-11T15:19:25.345495",
     "exception": false,
     "start_time": "2024-08-11T15:19:25.299276",
     "status": "completed"
    },
    "tags": []
   },
   "source": [
    "<div style=\"font-family: 'Times New Roman'; background-color: #f0f4c3; color: #3e4e24; padding: 10px; border-radius: 5px; text-align: center;\">\n",
    "\n",
    "### Arithmetic Operations\n",
    "\n",
    "</div>\n"
   ]
  },
  {
   "cell_type": "markdown",
   "id": "a2f5fa0c",
   "metadata": {
    "papermill": {
     "duration": 0.04605,
     "end_time": "2024-08-11T15:19:25.438252",
     "exception": false,
     "start_time": "2024-08-11T15:19:25.392202",
     "status": "completed"
    },
    "tags": []
   },
   "source": [
    "<div style=\"font-family: 'Times New Roman'; background-color: #d4e6f1; padding: 10px; border-radius: 5px;\">\n",
    "\n",
    "### ➕ Arithmetic Operations on NumPy Arrays\n",
    "\n",
    "NumPy provides a powerful framework for performing arithmetic operations on arrays. These operations are element-wise, meaning they are applied independently to each element in the array. This allows for efficient computation, especially when dealing with large datasets.\n",
    "\n",
    "#### 🔢 Common Arithmetic Operations\n",
    "\n",
    "### 1. Addition (`+`)\n",
    "- Adds corresponding elements of two arrays.\n",
    "\n",
    "### 2. Subtraction (`-`)\n",
    "- Subtracts corresponding elements of one array from another.\n",
    "\n",
    "### 3. Multiplication (`*`)\n",
    "- Multiplies corresponding elements of two arrays.\n",
    "\n",
    "### 4. Division (`/`)\n",
    "- Divides corresponding elements of one array by another.\n",
    "\n",
    "### 5. Exponentiation (`**`)\n",
    "- Raises each element in an array to a specified power.\n",
    "\n",
    "### 6. Modulus (`%`)\n",
    "- Computes the remainder of division between corresponding elements of two arrays.\n",
    "\n",
    "</div>\n"
   ]
  },
  {
   "cell_type": "code",
   "execution_count": 46,
   "id": "1c8312e8",
   "metadata": {
    "execution": {
     "iopub.execute_input": "2024-08-11T15:19:25.533033Z",
     "iopub.status.busy": "2024-08-11T15:19:25.532653Z",
     "iopub.status.idle": "2024-08-11T15:19:25.538467Z",
     "shell.execute_reply": "2024-08-11T15:19:25.537277Z"
    },
    "papermill": {
     "duration": 0.056236,
     "end_time": "2024-08-11T15:19:25.540964",
     "exception": false,
     "start_time": "2024-08-11T15:19:25.484728",
     "status": "completed"
    },
    "tags": []
   },
   "outputs": [],
   "source": [
    "# Create two 1D arrays\n",
    "array_1 = np.array([1, 2, 3, 4])\n",
    "array_2 = np.array([5, 6, 7, 8])\n"
   ]
  },
  {
   "cell_type": "code",
   "execution_count": 47,
   "id": "67277594",
   "metadata": {
    "execution": {
     "iopub.execute_input": "2024-08-11T15:19:25.636174Z",
     "iopub.status.busy": "2024-08-11T15:19:25.635792Z",
     "iopub.status.idle": "2024-08-11T15:19:25.641997Z",
     "shell.execute_reply": "2024-08-11T15:19:25.640717Z"
    },
    "papermill": {
     "duration": 0.05706,
     "end_time": "2024-08-11T15:19:25.644854",
     "exception": false,
     "start_time": "2024-08-11T15:19:25.587794",
     "status": "completed"
    },
    "tags": []
   },
   "outputs": [
    {
     "name": "stdout",
     "output_type": "stream",
     "text": [
      "Addition:\n",
      "[ 6  8 10 12]\n"
     ]
    }
   ],
   "source": [
    "# Addition\n",
    "addition_result = array_1 + array_2\n",
    "print(\"Addition:\")\n",
    "print(addition_result)  \n"
   ]
  },
  {
   "cell_type": "code",
   "execution_count": 48,
   "id": "0cc97fed",
   "metadata": {
    "execution": {
     "iopub.execute_input": "2024-08-11T15:19:25.742472Z",
     "iopub.status.busy": "2024-08-11T15:19:25.741359Z",
     "iopub.status.idle": "2024-08-11T15:19:25.747897Z",
     "shell.execute_reply": "2024-08-11T15:19:25.746581Z"
    },
    "papermill": {
     "duration": 0.059048,
     "end_time": "2024-08-11T15:19:25.750541",
     "exception": false,
     "start_time": "2024-08-11T15:19:25.691493",
     "status": "completed"
    },
    "tags": []
   },
   "outputs": [
    {
     "name": "stdout",
     "output_type": "stream",
     "text": [
      "Subtraction:\n",
      "[-4 -4 -4 -4]\n"
     ]
    }
   ],
   "source": [
    "# Subtraction\n",
    "subtraction_result = array_1 - array_2\n",
    "print(\"Subtraction:\")\n",
    "print(subtraction_result) "
   ]
  },
  {
   "cell_type": "code",
   "execution_count": 49,
   "id": "a3bd8825",
   "metadata": {
    "execution": {
     "iopub.execute_input": "2024-08-11T15:19:25.848071Z",
     "iopub.status.busy": "2024-08-11T15:19:25.847697Z",
     "iopub.status.idle": "2024-08-11T15:19:25.854001Z",
     "shell.execute_reply": "2024-08-11T15:19:25.852903Z"
    },
    "papermill": {
     "duration": 0.057597,
     "end_time": "2024-08-11T15:19:25.856680",
     "exception": false,
     "start_time": "2024-08-11T15:19:25.799083",
     "status": "completed"
    },
    "tags": []
   },
   "outputs": [
    {
     "name": "stdout",
     "output_type": "stream",
     "text": [
      "Multiplication:\n",
      "[ 5 12 21 32]\n"
     ]
    }
   ],
   "source": [
    "# Multiplication\n",
    "multiplication_result = array_1 * array_2\n",
    "print(\"Multiplication:\")\n",
    "print(multiplication_result)"
   ]
  },
  {
   "cell_type": "code",
   "execution_count": 50,
   "id": "b657e33d",
   "metadata": {
    "execution": {
     "iopub.execute_input": "2024-08-11T15:19:25.952477Z",
     "iopub.status.busy": "2024-08-11T15:19:25.952006Z",
     "iopub.status.idle": "2024-08-11T15:19:25.958498Z",
     "shell.execute_reply": "2024-08-11T15:19:25.957341Z"
    },
    "papermill": {
     "duration": 0.05766,
     "end_time": "2024-08-11T15:19:25.961341",
     "exception": false,
     "start_time": "2024-08-11T15:19:25.903681",
     "status": "completed"
    },
    "tags": []
   },
   "outputs": [
    {
     "name": "stdout",
     "output_type": "stream",
     "text": [
      "Division:\n",
      "[0.2        0.33333333 0.42857143 0.5       ]\n"
     ]
    }
   ],
   "source": [
    "# Division\n",
    "division_result = array_1 / array_2\n",
    "print(\"Division:\")\n",
    "print(division_result)"
   ]
  },
  {
   "cell_type": "code",
   "execution_count": 51,
   "id": "1d43d12a",
   "metadata": {
    "execution": {
     "iopub.execute_input": "2024-08-11T15:19:26.059180Z",
     "iopub.status.busy": "2024-08-11T15:19:26.058810Z",
     "iopub.status.idle": "2024-08-11T15:19:26.064949Z",
     "shell.execute_reply": "2024-08-11T15:19:26.063723Z"
    },
    "papermill": {
     "duration": 0.057188,
     "end_time": "2024-08-11T15:19:26.067738",
     "exception": false,
     "start_time": "2024-08-11T15:19:26.010550",
     "status": "completed"
    },
    "tags": []
   },
   "outputs": [
    {
     "name": "stdout",
     "output_type": "stream",
     "text": [
      "Exponentiation:\n",
      "[ 1  4  9 16]\n"
     ]
    }
   ],
   "source": [
    "# Exponentiation\n",
    "exponentiation_result = array_1 ** 2\n",
    "print(\"Exponentiation:\")\n",
    "print(exponentiation_result)"
   ]
  },
  {
   "cell_type": "code",
   "execution_count": 52,
   "id": "4975d17d",
   "metadata": {
    "execution": {
     "iopub.execute_input": "2024-08-11T15:19:26.165945Z",
     "iopub.status.busy": "2024-08-11T15:19:26.165543Z",
     "iopub.status.idle": "2024-08-11T15:19:26.171642Z",
     "shell.execute_reply": "2024-08-11T15:19:26.170447Z"
    },
    "papermill": {
     "duration": 0.058818,
     "end_time": "2024-08-11T15:19:26.174541",
     "exception": false,
     "start_time": "2024-08-11T15:19:26.115723",
     "status": "completed"
    },
    "tags": []
   },
   "outputs": [
    {
     "name": "stdout",
     "output_type": "stream",
     "text": [
      "Modulus:\n",
      "[0 0 1 0]\n"
     ]
    }
   ],
   "source": [
    "# Modulus\n",
    "modulus_result = array_2 % array_1\n",
    "print(\"Modulus:\")\n",
    "print(modulus_result)"
   ]
  },
  {
   "cell_type": "code",
   "execution_count": 53,
   "id": "ead64b68",
   "metadata": {
    "execution": {
     "iopub.execute_input": "2024-08-11T15:19:26.273196Z",
     "iopub.status.busy": "2024-08-11T15:19:26.272218Z",
     "iopub.status.idle": "2024-08-11T15:19:26.279048Z",
     "shell.execute_reply": "2024-08-11T15:19:26.277912Z"
    },
    "papermill": {
     "duration": 0.05901,
     "end_time": "2024-08-11T15:19:26.282038",
     "exception": false,
     "start_time": "2024-08-11T15:19:26.223028",
     "status": "completed"
    },
    "tags": []
   },
   "outputs": [
    {
     "name": "stdout",
     "output_type": "stream",
     "text": [
      "Squared 1D array:\n",
      "[ 1  4  9 16]\n"
     ]
    }
   ],
   "source": [
    "# Create a 1D array\n",
    "array_1d = np.array([1, 2, 3, 4])\n",
    "\n",
    "# Square each element in the array\n",
    "squared_array_1d = np.square(array_1d)\n",
    "print(\"Squared 1D array:\")\n",
    "print(squared_array_1d)"
   ]
  },
  {
   "cell_type": "code",
   "execution_count": 54,
   "id": "f974a6a6",
   "metadata": {
    "execution": {
     "iopub.execute_input": "2024-08-11T15:19:26.379305Z",
     "iopub.status.busy": "2024-08-11T15:19:26.378499Z",
     "iopub.status.idle": "2024-08-11T15:19:26.385053Z",
     "shell.execute_reply": "2024-08-11T15:19:26.383820Z"
    },
    "papermill": {
     "duration": 0.058205,
     "end_time": "2024-08-11T15:19:26.387926",
     "exception": false,
     "start_time": "2024-08-11T15:19:26.329721",
     "status": "completed"
    },
    "tags": []
   },
   "outputs": [
    {
     "name": "stdout",
     "output_type": "stream",
     "text": [
      "[[1 2]\n",
      " [3 4]]\n"
     ]
    }
   ],
   "source": [
    "# Create a 2D array\n",
    "array_2d = np.array([[1, 2], [3, 4]])\n",
    "print(array_2d)"
   ]
  },
  {
   "cell_type": "code",
   "execution_count": 55,
   "id": "6b9e6c7a",
   "metadata": {
    "execution": {
     "iopub.execute_input": "2024-08-11T15:19:26.484522Z",
     "iopub.status.busy": "2024-08-11T15:19:26.484123Z",
     "iopub.status.idle": "2024-08-11T15:19:26.490418Z",
     "shell.execute_reply": "2024-08-11T15:19:26.489351Z"
    },
    "papermill": {
     "duration": 0.057386,
     "end_time": "2024-08-11T15:19:26.492851",
     "exception": false,
     "start_time": "2024-08-11T15:19:26.435465",
     "status": "completed"
    },
    "tags": []
   },
   "outputs": [
    {
     "name": "stdout",
     "output_type": "stream",
     "text": [
      "Squared 2D array:\n",
      "[[ 1  4]\n",
      " [ 9 16]]\n"
     ]
    }
   ],
   "source": [
    "# Square each element in the 2D array\n",
    "squared_array_2d = np.square(array_2d)\n",
    "print(\"Squared 2D array:\")\n",
    "print(squared_array_2d)"
   ]
  },
  {
   "cell_type": "code",
   "execution_count": 56,
   "id": "2d983e68",
   "metadata": {
    "execution": {
     "iopub.execute_input": "2024-08-11T15:19:26.589866Z",
     "iopub.status.busy": "2024-08-11T15:19:26.588749Z",
     "iopub.status.idle": "2024-08-11T15:19:26.596740Z",
     "shell.execute_reply": "2024-08-11T15:19:26.595686Z"
    },
    "papermill": {
     "duration": 0.059001,
     "end_time": "2024-08-11T15:19:26.599269",
     "exception": false,
     "start_time": "2024-08-11T15:19:26.540268",
     "status": "completed"
    },
    "tags": []
   },
   "outputs": [
    {
     "data": {
      "text/plain": [
       "array([1., 1., 1.])"
      ]
     },
     "execution_count": 56,
     "metadata": {},
     "output_type": "execute_result"
    }
   ],
   "source": [
    "arr_one=np.ones(3)\n",
    "arr_one"
   ]
  },
  {
   "cell_type": "code",
   "execution_count": 57,
   "id": "b8feb59d",
   "metadata": {
    "execution": {
     "iopub.execute_input": "2024-08-11T15:19:26.696844Z",
     "iopub.status.busy": "2024-08-11T15:19:26.696087Z",
     "iopub.status.idle": "2024-08-11T15:19:26.701867Z",
     "shell.execute_reply": "2024-08-11T15:19:26.700720Z"
    },
    "papermill": {
     "duration": 0.057227,
     "end_time": "2024-08-11T15:19:26.704154",
     "exception": false,
     "start_time": "2024-08-11T15:19:26.646927",
     "status": "completed"
    },
    "tags": []
   },
   "outputs": [
    {
     "name": "stdout",
     "output_type": "stream",
     "text": [
      "[2 3 4]\n"
     ]
    }
   ],
   "source": [
    "arr_3=np.array([2,3,4])\n",
    "print(arr_3)"
   ]
  },
  {
   "cell_type": "code",
   "execution_count": 58,
   "id": "3e706a6b",
   "metadata": {
    "execution": {
     "iopub.execute_input": "2024-08-11T15:19:26.802743Z",
     "iopub.status.busy": "2024-08-11T15:19:26.801948Z",
     "iopub.status.idle": "2024-08-11T15:19:26.809239Z",
     "shell.execute_reply": "2024-08-11T15:19:26.807991Z"
    },
    "papermill": {
     "duration": 0.060302,
     "end_time": "2024-08-11T15:19:26.812055",
     "exception": false,
     "start_time": "2024-08-11T15:19:26.751753",
     "status": "completed"
    },
    "tags": []
   },
   "outputs": [
    {
     "data": {
      "text/plain": [
       "array([ 4.,  9., 16.])"
      ]
     },
     "execution_count": 58,
     "metadata": {},
     "output_type": "execute_result"
    }
   ],
   "source": [
    "np.square(arr_3,arr_one)"
   ]
  },
  {
   "cell_type": "code",
   "execution_count": 59,
   "id": "862b5991",
   "metadata": {
    "execution": {
     "iopub.execute_input": "2024-08-11T15:19:26.911236Z",
     "iopub.status.busy": "2024-08-11T15:19:26.910817Z",
     "iopub.status.idle": "2024-08-11T15:19:26.919115Z",
     "shell.execute_reply": "2024-08-11T15:19:26.917991Z"
    },
    "papermill": {
     "duration": 0.060855,
     "end_time": "2024-08-11T15:19:26.921510",
     "exception": false,
     "start_time": "2024-08-11T15:19:26.860655",
     "status": "completed"
    },
    "tags": []
   },
   "outputs": [
    {
     "data": {
      "text/plain": [
       "array([ 6,  8, 10, 12])"
      ]
     },
     "execution_count": 59,
     "metadata": {},
     "output_type": "execute_result"
    }
   ],
   "source": [
    "array_1 = np.array([1, 2, 3, 4])\n",
    "array_2 = np.array([5, 6, 7, 8])\n",
    "\n",
    "np.add(array_1,array_2)"
   ]
  },
  {
   "cell_type": "markdown",
   "id": "ee7e372f",
   "metadata": {
    "papermill": {
     "duration": 0.049286,
     "end_time": "2024-08-11T15:19:27.018615",
     "exception": false,
     "start_time": "2024-08-11T15:19:26.969329",
     "status": "completed"
    },
    "tags": []
   },
   "source": [
    "<div style=\"font-family: 'Times New Roman'; background-color: #f0f4c3; color: #3e4e24; padding: 10px; border-radius: 5px; text-align: center;\">\n",
    "\n",
    "### Aggregation Functions\n",
    "\n",
    "</div>\n"
   ]
  },
  {
   "cell_type": "code",
   "execution_count": 60,
   "id": "2370c33c",
   "metadata": {
    "execution": {
     "iopub.execute_input": "2024-08-11T15:19:27.119515Z",
     "iopub.status.busy": "2024-08-11T15:19:27.118273Z",
     "iopub.status.idle": "2024-08-11T15:19:27.126731Z",
     "shell.execute_reply": "2024-08-11T15:19:27.125701Z"
    },
    "papermill": {
     "duration": 0.062204,
     "end_time": "2024-08-11T15:19:27.129537",
     "exception": false,
     "start_time": "2024-08-11T15:19:27.067333",
     "status": "completed"
    },
    "tags": []
   },
   "outputs": [],
   "source": [
    "giant_arr=np.random.random(100000)"
   ]
  },
  {
   "cell_type": "code",
   "execution_count": 61,
   "id": "35bca50e",
   "metadata": {
    "execution": {
     "iopub.execute_input": "2024-08-11T15:19:27.228897Z",
     "iopub.status.busy": "2024-08-11T15:19:27.228444Z",
     "iopub.status.idle": "2024-08-11T15:19:27.236668Z",
     "shell.execute_reply": "2024-08-11T15:19:27.235447Z"
    },
    "papermill": {
     "duration": 0.061745,
     "end_time": "2024-08-11T15:19:27.239369",
     "exception": false,
     "start_time": "2024-08-11T15:19:27.177624",
     "status": "completed"
    },
    "tags": []
   },
   "outputs": [
    {
     "data": {
      "text/plain": [
       "array([0.00612981, 0.65584557, 0.84982297, 0.9682767 , 0.53524401,\n",
       "       0.93559309, 0.67126716, 0.72410878, 0.74689609, 0.18659229,\n",
       "       0.61966736, 0.22398603, 0.07626434, 0.32054899, 0.30865792,\n",
       "       0.14532716, 0.90098954, 0.65464727, 0.03042531, 0.56031437,\n",
       "       0.20877246, 0.13075848, 0.69675536, 0.23007893, 0.09724668,\n",
       "       0.79318418, 0.63047359, 0.51239983, 0.82901908, 0.24474535,\n",
       "       0.86700457, 0.09379959, 0.10926941, 0.00791811, 0.14703805,\n",
       "       0.32188369, 0.11049259, 0.62933888, 0.42125732, 0.95103611,\n",
       "       0.89417052, 0.46950764, 0.25574381, 0.40302377, 0.89756439,\n",
       "       0.34466577, 0.10302695, 0.23883176, 0.6197583 , 0.71320114])"
      ]
     },
     "execution_count": 61,
     "metadata": {},
     "output_type": "execute_result"
    }
   ],
   "source": [
    "giant_arr[:50]"
   ]
  },
  {
   "cell_type": "code",
   "execution_count": 62,
   "id": "c0e333de",
   "metadata": {
    "execution": {
     "iopub.execute_input": "2024-08-11T15:19:27.338992Z",
     "iopub.status.busy": "2024-08-11T15:19:27.338301Z",
     "iopub.status.idle": "2024-08-11T15:19:29.016234Z",
     "shell.execute_reply": "2024-08-11T15:19:29.014810Z"
    },
    "papermill": {
     "duration": 1.73043,
     "end_time": "2024-08-11T15:19:29.019140",
     "exception": false,
     "start_time": "2024-08-11T15:19:27.288710",
     "status": "completed"
    },
    "tags": []
   },
   "outputs": [
    {
     "name": "stdout",
     "output_type": "stream",
     "text": [
      "20.6 ms ± 90.3 µs per loop (mean ± std. dev. of 7 runs, 10 loops each)\n"
     ]
    }
   ],
   "source": [
    "%timeit sum(giant_arr)"
   ]
  },
  {
   "cell_type": "code",
   "execution_count": 63,
   "id": "726287fe",
   "metadata": {
    "execution": {
     "iopub.execute_input": "2024-08-11T15:19:29.119068Z",
     "iopub.status.busy": "2024-08-11T15:19:29.118332Z",
     "iopub.status.idle": "2024-08-11T15:19:32.398345Z",
     "shell.execute_reply": "2024-08-11T15:19:32.397113Z"
    },
    "papermill": {
     "duration": 3.333141,
     "end_time": "2024-08-11T15:19:32.401220",
     "exception": false,
     "start_time": "2024-08-11T15:19:29.068079",
     "status": "completed"
    },
    "tags": []
   },
   "outputs": [
    {
     "name": "stdout",
     "output_type": "stream",
     "text": [
      "40.5 µs ± 1.61 µs per loop (mean ± std. dev. of 7 runs, 10,000 loops each)\n"
     ]
    }
   ],
   "source": [
    "%timeit np.sum(giant_arr)  #Faster"
   ]
  },
  {
   "cell_type": "code",
   "execution_count": 64,
   "id": "1046d01c",
   "metadata": {
    "execution": {
     "iopub.execute_input": "2024-08-11T15:19:32.500942Z",
     "iopub.status.busy": "2024-08-11T15:19:32.500177Z",
     "iopub.status.idle": "2024-08-11T15:19:32.507514Z",
     "shell.execute_reply": "2024-08-11T15:19:32.506400Z"
    },
    "papermill": {
     "duration": 0.059743,
     "end_time": "2024-08-11T15:19:32.509958",
     "exception": false,
     "start_time": "2024-08-11T15:19:32.450215",
     "status": "completed"
    },
    "tags": []
   },
   "outputs": [
    {
     "data": {
      "text/plain": [
       "array([1, 2, 3, 4])"
      ]
     },
     "execution_count": 64,
     "metadata": {},
     "output_type": "execute_result"
    }
   ],
   "source": [
    "a1"
   ]
  },
  {
   "cell_type": "code",
   "execution_count": 65,
   "id": "12044f47",
   "metadata": {
    "execution": {
     "iopub.execute_input": "2024-08-11T15:19:32.609143Z",
     "iopub.status.busy": "2024-08-11T15:19:32.608475Z",
     "iopub.status.idle": "2024-08-11T15:19:32.615358Z",
     "shell.execute_reply": "2024-08-11T15:19:32.614330Z"
    },
    "papermill": {
     "duration": 0.058888,
     "end_time": "2024-08-11T15:19:32.617712",
     "exception": false,
     "start_time": "2024-08-11T15:19:32.558824",
     "status": "completed"
    },
    "tags": []
   },
   "outputs": [
    {
     "data": {
      "text/plain": [
       "2.5"
      ]
     },
     "execution_count": 65,
     "metadata": {},
     "output_type": "execute_result"
    }
   ],
   "source": [
    "#Mean\n",
    "np.mean(a1)"
   ]
  },
  {
   "cell_type": "code",
   "execution_count": 66,
   "id": "86dcf5b7",
   "metadata": {
    "execution": {
     "iopub.execute_input": "2024-08-11T15:19:32.716929Z",
     "iopub.status.busy": "2024-08-11T15:19:32.716561Z",
     "iopub.status.idle": "2024-08-11T15:19:32.724178Z",
     "shell.execute_reply": "2024-08-11T15:19:32.722980Z"
    },
    "papermill": {
     "duration": 0.059848,
     "end_time": "2024-08-11T15:19:32.726515",
     "exception": false,
     "start_time": "2024-08-11T15:19:32.666667",
     "status": "completed"
    },
    "tags": []
   },
   "outputs": [
    {
     "data": {
      "text/plain": [
       "1"
      ]
     },
     "execution_count": 66,
     "metadata": {},
     "output_type": "execute_result"
    }
   ],
   "source": [
    "#Min\n",
    "np.min(a1)"
   ]
  },
  {
   "cell_type": "code",
   "execution_count": 67,
   "id": "80b5831c",
   "metadata": {
    "execution": {
     "iopub.execute_input": "2024-08-11T15:19:32.826975Z",
     "iopub.status.busy": "2024-08-11T15:19:32.826557Z",
     "iopub.status.idle": "2024-08-11T15:19:32.833573Z",
     "shell.execute_reply": "2024-08-11T15:19:32.832460Z"
    },
    "papermill": {
     "duration": 0.059982,
     "end_time": "2024-08-11T15:19:32.836058",
     "exception": false,
     "start_time": "2024-08-11T15:19:32.776076",
     "status": "completed"
    },
    "tags": []
   },
   "outputs": [
    {
     "data": {
      "text/plain": [
       "4"
      ]
     },
     "execution_count": 67,
     "metadata": {},
     "output_type": "execute_result"
    }
   ],
   "source": [
    "#Max\n",
    "np.max(a1)"
   ]
  },
  {
   "cell_type": "markdown",
   "id": "bc1e2618",
   "metadata": {
    "papermill": {
     "duration": 0.049472,
     "end_time": "2024-08-11T15:19:32.934657",
     "exception": false,
     "start_time": "2024-08-11T15:19:32.885185",
     "status": "completed"
    },
    "tags": []
   },
   "source": [
    "<div style=\"font-family: 'Times New Roman'; background-color: #f0f4c3; color: #3e4e24; padding: 10px; border-radius: 5px; text-align: center;\">\n",
    "\n",
    "### Reshape\n",
    "</div>\n"
   ]
  },
  {
   "cell_type": "markdown",
   "id": "5abd32da",
   "metadata": {
    "papermill": {
     "duration": 0.051085,
     "end_time": "2024-08-11T15:19:33.035695",
     "exception": false,
     "start_time": "2024-08-11T15:19:32.984610",
     "status": "completed"
    },
    "tags": []
   },
   "source": [
    "<div style=\"font-family: 'Times New Roman'; background-color: #d4e6f1; padding: 10px; border-radius: 5px;\">\n",
    "\n",
    "### 🔄 Reshaping Arrays with `np.reshape()`\n",
    "\n",
    "The `np.reshape()` function in NumPy is used to change the shape of an array without altering its data. This is particularly useful when you need to transform data for analysis or visualization, allowing you to reorganize the array's elements into a new structure.\n",
    "\n",
    "#### 🛠️ Syntax\n",
    "\n",
    "```python\n",
    "numpy.reshape(a, newshape, order='C')\n"
   ]
  },
  {
   "cell_type": "code",
   "execution_count": 68,
   "id": "91d66f54",
   "metadata": {
    "execution": {
     "iopub.execute_input": "2024-08-11T15:19:33.137344Z",
     "iopub.status.busy": "2024-08-11T15:19:33.136870Z",
     "iopub.status.idle": "2024-08-11T15:19:33.144035Z",
     "shell.execute_reply": "2024-08-11T15:19:33.142277Z"
    },
    "papermill": {
     "duration": 0.061013,
     "end_time": "2024-08-11T15:19:33.146580",
     "exception": false,
     "start_time": "2024-08-11T15:19:33.085567",
     "status": "completed"
    },
    "tags": []
   },
   "outputs": [
    {
     "name": "stdout",
     "output_type": "stream",
     "text": [
      "Original 1D array:\n",
      "[ 0  1  2  3  4  5  6  7  8  9 10 11]\n"
     ]
    }
   ],
   "source": [
    "# Create a 1D array\n",
    "array_1d = np.arange(12)\n",
    "print(\"Original 1D array:\")\n",
    "print(array_1d)"
   ]
  },
  {
   "cell_type": "code",
   "execution_count": 69,
   "id": "7a3ea122",
   "metadata": {
    "execution": {
     "iopub.execute_input": "2024-08-11T15:19:33.251036Z",
     "iopub.status.busy": "2024-08-11T15:19:33.250626Z",
     "iopub.status.idle": "2024-08-11T15:19:33.256993Z",
     "shell.execute_reply": "2024-08-11T15:19:33.255958Z"
    },
    "papermill": {
     "duration": 0.062429,
     "end_time": "2024-08-11T15:19:33.259983",
     "exception": false,
     "start_time": "2024-08-11T15:19:33.197554",
     "status": "completed"
    },
    "tags": []
   },
   "outputs": [
    {
     "name": "stdout",
     "output_type": "stream",
     "text": [
      "Reshaped to 2D (3x4):\n",
      "[[ 0  1  2  3]\n",
      " [ 4  5  6  7]\n",
      " [ 8  9 10 11]]\n"
     ]
    }
   ],
   "source": [
    "# Reshape the array to 2D (3x4)\n",
    "array_2d = np.reshape(array_1d, (3, 4))\n",
    "print(\"Reshaped to 2D (3x4):\")\n",
    "print(array_2d)"
   ]
  },
  {
   "cell_type": "code",
   "execution_count": 70,
   "id": "812372d9",
   "metadata": {
    "execution": {
     "iopub.execute_input": "2024-08-11T15:19:33.360529Z",
     "iopub.status.busy": "2024-08-11T15:19:33.360076Z",
     "iopub.status.idle": "2024-08-11T15:19:33.367070Z",
     "shell.execute_reply": "2024-08-11T15:19:33.365912Z"
    },
    "papermill": {
     "duration": 0.060632,
     "end_time": "2024-08-11T15:19:33.369966",
     "exception": false,
     "start_time": "2024-08-11T15:19:33.309334",
     "status": "completed"
    },
    "tags": []
   },
   "outputs": [
    {
     "name": "stdout",
     "output_type": "stream",
     "text": [
      "Reshaped to 3D (2x3x2):\n",
      "[[[ 0  1]\n",
      "  [ 2  3]\n",
      "  [ 4  5]]\n",
      "\n",
      " [[ 6  7]\n",
      "  [ 8  9]\n",
      "  [10 11]]]\n"
     ]
    }
   ],
   "source": [
    "# Reshape the array to 3D (2x3x2)\n",
    "array_3d = np.reshape(array_1d, (2, 3, 2))\n",
    "print(\"Reshaped to 3D (2x3x2):\")\n",
    "print(array_3d)"
   ]
  },
  {
   "cell_type": "markdown",
   "id": "a51b033f",
   "metadata": {
    "papermill": {
     "duration": 0.049294,
     "end_time": "2024-08-11T15:19:33.469313",
     "exception": false,
     "start_time": "2024-08-11T15:19:33.420019",
     "status": "completed"
    },
    "tags": []
   },
   "source": [
    "<div style=\"font-family: 'Times New Roman'; background-color: #f0f4c3; color: #3e4e24; padding: 10px; border-radius: 5px; text-align: center;\">\n",
    "\n",
    "### Transpose\n",
    "</div>\n"
   ]
  },
  {
   "cell_type": "markdown",
   "id": "a5239815",
   "metadata": {
    "papermill": {
     "duration": 0.049143,
     "end_time": "2024-08-11T15:19:33.568177",
     "exception": false,
     "start_time": "2024-08-11T15:19:33.519034",
     "status": "completed"
    },
    "tags": []
   },
   "source": [
    "<div style=\"font-family: 'Times New Roman'; background-color: #d4e6f1; padding: 10px; border-radius: 5px;\">\n",
    "\n",
    "### 🔄 Transposing Arrays with `np.transpose()`\n",
    "\n",
    "The `np.transpose()` function in NumPy is used to reverse or permute the axes of an array, effectively transforming the array by swapping its dimensions. Transposing is particularly useful in mathematical computations, such as matrix operations, where the orientation of data is crucial.\n",
    "\n",
    "#### 🛠️ Syntax\n",
    "\n",
    "```python\n",
    "numpy.transpose(a, axes=None)\n"
   ]
  },
  {
   "cell_type": "code",
   "execution_count": 71,
   "id": "fbb4f66f",
   "metadata": {
    "execution": {
     "iopub.execute_input": "2024-08-11T15:19:33.669655Z",
     "iopub.status.busy": "2024-08-11T15:19:33.668534Z",
     "iopub.status.idle": "2024-08-11T15:19:33.675232Z",
     "shell.execute_reply": "2024-08-11T15:19:33.674148Z"
    },
    "papermill": {
     "duration": 0.060613,
     "end_time": "2024-08-11T15:19:33.678393",
     "exception": false,
     "start_time": "2024-08-11T15:19:33.617780",
     "status": "completed"
    },
    "tags": []
   },
   "outputs": [
    {
     "name": "stdout",
     "output_type": "stream",
     "text": [
      "Original 2D array:\n",
      "[[1 2 3]\n",
      " [4 5 6]]\n"
     ]
    }
   ],
   "source": [
    "# Create a 2D array\n",
    "array_2d = np.array([[1, 2, 3], [4, 5, 6]])\n",
    "print(\"Original 2D array:\")\n",
    "print(array_2d)"
   ]
  },
  {
   "cell_type": "code",
   "execution_count": 72,
   "id": "f401c1cb",
   "metadata": {
    "execution": {
     "iopub.execute_input": "2024-08-11T15:19:33.780846Z",
     "iopub.status.busy": "2024-08-11T15:19:33.780470Z",
     "iopub.status.idle": "2024-08-11T15:19:33.787063Z",
     "shell.execute_reply": "2024-08-11T15:19:33.785827Z"
    },
    "papermill": {
     "duration": 0.061397,
     "end_time": "2024-08-11T15:19:33.789689",
     "exception": false,
     "start_time": "2024-08-11T15:19:33.728292",
     "status": "completed"
    },
    "tags": []
   },
   "outputs": [
    {
     "name": "stdout",
     "output_type": "stream",
     "text": [
      "Transposed 2D array:\n",
      "[[1 4]\n",
      " [2 5]\n",
      " [3 6]]\n"
     ]
    }
   ],
   "source": [
    "# Transpose the 2D array\n",
    "transposed_2d = np.transpose(array_2d)\n",
    "print(\"Transposed 2D array:\")\n",
    "print(transposed_2d)"
   ]
  },
  {
   "cell_type": "code",
   "execution_count": 73,
   "id": "849f33f8",
   "metadata": {
    "execution": {
     "iopub.execute_input": "2024-08-11T15:19:33.892081Z",
     "iopub.status.busy": "2024-08-11T15:19:33.891254Z",
     "iopub.status.idle": "2024-08-11T15:19:33.898826Z",
     "shell.execute_reply": "2024-08-11T15:19:33.897543Z"
    },
    "papermill": {
     "duration": 0.061159,
     "end_time": "2024-08-11T15:19:33.901247",
     "exception": false,
     "start_time": "2024-08-11T15:19:33.840088",
     "status": "completed"
    },
    "tags": []
   },
   "outputs": [
    {
     "data": {
      "text/plain": [
       "array([[1, 4],\n",
       "       [2, 5],\n",
       "       [3, 6]])"
      ]
     },
     "execution_count": 73,
     "metadata": {},
     "output_type": "execute_result"
    }
   ],
   "source": [
    "#Another method\n",
    "array_2d.T"
   ]
  },
  {
   "cell_type": "code",
   "execution_count": 74,
   "id": "6647b5ce",
   "metadata": {
    "execution": {
     "iopub.execute_input": "2024-08-11T15:19:34.006023Z",
     "iopub.status.busy": "2024-08-11T15:19:34.004896Z",
     "iopub.status.idle": "2024-08-11T15:19:34.012560Z",
     "shell.execute_reply": "2024-08-11T15:19:34.011128Z"
    },
    "papermill": {
     "duration": 0.062151,
     "end_time": "2024-08-11T15:19:34.015182",
     "exception": false,
     "start_time": "2024-08-11T15:19:33.953031",
     "status": "completed"
    },
    "tags": []
   },
   "outputs": [
    {
     "name": "stdout",
     "output_type": "stream",
     "text": [
      "Original 3D array:\n",
      "[[[1 2]\n",
      "  [3 4]]\n",
      "\n",
      " [[5 6]\n",
      "  [7 8]]]\n"
     ]
    }
   ],
   "source": [
    "# Create a 3D array\n",
    "array_3d = np.array([[[1, 2], [3, 4]], [[5, 6], [7, 8]]])\n",
    "print(\"Original 3D array:\")\n",
    "print(array_3d)"
   ]
  },
  {
   "cell_type": "code",
   "execution_count": 75,
   "id": "61ffd5fa",
   "metadata": {
    "execution": {
     "iopub.execute_input": "2024-08-11T15:19:34.119367Z",
     "iopub.status.busy": "2024-08-11T15:19:34.118526Z",
     "iopub.status.idle": "2024-08-11T15:19:34.125804Z",
     "shell.execute_reply": "2024-08-11T15:19:34.124731Z"
    },
    "papermill": {
     "duration": 0.061684,
     "end_time": "2024-08-11T15:19:34.128235",
     "exception": false,
     "start_time": "2024-08-11T15:19:34.066551",
     "status": "completed"
    },
    "tags": []
   },
   "outputs": [
    {
     "data": {
      "text/plain": [
       "array([[[1, 5],\n",
       "        [3, 7]],\n",
       "\n",
       "       [[2, 6],\n",
       "        [4, 8]]])"
      ]
     },
     "execution_count": 75,
     "metadata": {},
     "output_type": "execute_result"
    }
   ],
   "source": [
    "array_3d.T"
   ]
  },
  {
   "cell_type": "markdown",
   "id": "244219ed",
   "metadata": {
    "papermill": {
     "duration": 0.049561,
     "end_time": "2024-08-11T15:19:34.227544",
     "exception": false,
     "start_time": "2024-08-11T15:19:34.177983",
     "status": "completed"
    },
    "tags": []
   },
   "source": [
    "<div style=\"font-family: 'Times New Roman'; background-color: #f0f4c3; color: #3e4e24; padding: 10px; border-radius: 5px; text-align: center;\">\n",
    "\n",
    "### Comparison Operations\n",
    "</div>\n"
   ]
  },
  {
   "cell_type": "markdown",
   "id": "73ca0290",
   "metadata": {
    "papermill": {
     "duration": 0.049559,
     "end_time": "2024-08-11T15:19:34.328245",
     "exception": false,
     "start_time": "2024-08-11T15:19:34.278686",
     "status": "completed"
    },
    "tags": []
   },
   "source": [
    "<div style=\"font-family: 'Times New Roman'; background-color: #d4e6f1; padding: 10px; border-radius: 5px;\">\n",
    "\n",
    "### ⚖️ Comparison Operations in NumPy\n",
    "\n",
    "NumPy supports element-wise comparison operations, allowing you to perform logical tests on arrays. These operations return Boolean arrays, where each element indicates whether the condition is met (`True`) or not (`False`).\n",
    "\n",
    "#### 🔍 Common Comparison Operators\n",
    "\n",
    "- **`>`** : Greater than\n",
    "- **`<`** : Less than\n",
    "- **`>=`** : Greater than or equal to\n",
    "- **`<=`** : Less than or equal to\n",
    "- **`==`** : Equal to\n",
    "- **`!=`** : Not equal to\n",
    "\n",
    "</div>\n"
   ]
  },
  {
   "cell_type": "code",
   "execution_count": 76,
   "id": "c624e8ae",
   "metadata": {
    "execution": {
     "iopub.execute_input": "2024-08-11T15:19:34.431431Z",
     "iopub.status.busy": "2024-08-11T15:19:34.430294Z",
     "iopub.status.idle": "2024-08-11T15:19:34.437191Z",
     "shell.execute_reply": "2024-08-11T15:19:34.435941Z"
    },
    "papermill": {
     "duration": 0.061711,
     "end_time": "2024-08-11T15:19:34.440446",
     "exception": false,
     "start_time": "2024-08-11T15:19:34.378735",
     "status": "completed"
    },
    "tags": []
   },
   "outputs": [
    {
     "name": "stdout",
     "output_type": "stream",
     "text": [
      "Elements greater than 3:\n",
      "[False False False  True  True]\n"
     ]
    }
   ],
   "source": [
    "# Create a 1D array\n",
    "array_1d = np.array([1, 2, 3, 4, 5])\n",
    "\n",
    "# Greater than operation\n",
    "greater_than_3 = array_1d > 3\n",
    "print(\"Elements greater than 3:\")\n",
    "print(greater_than_3)  \n"
   ]
  },
  {
   "cell_type": "code",
   "execution_count": 77,
   "id": "49c5f6af",
   "metadata": {
    "execution": {
     "iopub.execute_input": "2024-08-11T15:19:34.542590Z",
     "iopub.status.busy": "2024-08-11T15:19:34.542188Z",
     "iopub.status.idle": "2024-08-11T15:19:34.548073Z",
     "shell.execute_reply": "2024-08-11T15:19:34.547118Z"
    },
    "papermill": {
     "duration": 0.059877,
     "end_time": "2024-08-11T15:19:34.551011",
     "exception": false,
     "start_time": "2024-08-11T15:19:34.491134",
     "status": "completed"
    },
    "tags": []
   },
   "outputs": [
    {
     "name": "stdout",
     "output_type": "stream",
     "text": [
      "Elements less than or equal to 2:\n",
      "[ True  True False False False]\n"
     ]
    }
   ],
   "source": [
    "# Less than or equal to operation\n",
    "less_than_equal_2 = array_1d <= 2\n",
    "print(\"Elements less than or equal to 2:\")\n",
    "print(less_than_equal_2)"
   ]
  },
  {
   "cell_type": "code",
   "execution_count": 78,
   "id": "2061a0de",
   "metadata": {
    "execution": {
     "iopub.execute_input": "2024-08-11T15:19:34.655184Z",
     "iopub.status.busy": "2024-08-11T15:19:34.654787Z",
     "iopub.status.idle": "2024-08-11T15:19:34.660953Z",
     "shell.execute_reply": "2024-08-11T15:19:34.659876Z"
    },
    "papermill": {
     "duration": 0.060725,
     "end_time": "2024-08-11T15:19:34.663362",
     "exception": false,
     "start_time": "2024-08-11T15:19:34.602637",
     "status": "completed"
    },
    "tags": []
   },
   "outputs": [
    {
     "name": "stdout",
     "output_type": "stream",
     "text": [
      "Elements equal to 4:\n",
      "[False False False  True False]\n"
     ]
    }
   ],
   "source": [
    "# Equal to operation\n",
    "equal_to_4 = array_1d == 4\n",
    "print(\"Elements equal to 4:\")\n",
    "print(equal_to_4)"
   ]
  },
  {
   "cell_type": "code",
   "execution_count": 79,
   "id": "a2e5b659",
   "metadata": {
    "execution": {
     "iopub.execute_input": "2024-08-11T15:19:34.766070Z",
     "iopub.status.busy": "2024-08-11T15:19:34.765677Z",
     "iopub.status.idle": "2024-08-11T15:19:34.771728Z",
     "shell.execute_reply": "2024-08-11T15:19:34.770517Z"
    },
    "papermill": {
     "duration": 0.061139,
     "end_time": "2024-08-11T15:19:34.774904",
     "exception": false,
     "start_time": "2024-08-11T15:19:34.713765",
     "status": "completed"
    },
    "tags": []
   },
   "outputs": [
    {
     "name": "stdout",
     "output_type": "stream",
     "text": [
      "Elements not equal to 3:\n",
      "[ True  True False  True  True]\n"
     ]
    }
   ],
   "source": [
    "# Not equal to operation\n",
    "not_equal_to_3 = array_1d != 3\n",
    "print(\"Elements not equal to 3:\")\n",
    "print(not_equal_to_3)  "
   ]
  },
  {
   "cell_type": "code",
   "execution_count": 80,
   "id": "a7095e6b",
   "metadata": {
    "execution": {
     "iopub.execute_input": "2024-08-11T15:19:34.878253Z",
     "iopub.status.busy": "2024-08-11T15:19:34.877421Z",
     "iopub.status.idle": "2024-08-11T15:19:34.884465Z",
     "shell.execute_reply": "2024-08-11T15:19:34.883277Z"
    },
    "papermill": {
     "duration": 0.061168,
     "end_time": "2024-08-11T15:19:34.886792",
     "exception": false,
     "start_time": "2024-08-11T15:19:34.825624",
     "status": "completed"
    },
    "tags": []
   },
   "outputs": [
    {
     "name": "stdout",
     "output_type": "stream",
     "text": [
      "Elements greater than 2 and less than 5:\n",
      "[False False  True  True False]\n"
     ]
    }
   ],
   "source": [
    "# Combining conditions with logical AND (&)\n",
    "greater_than_2_and_less_than_5 = (array_1d > 2) & (array_1d < 5)\n",
    "print(\"Elements greater than 2 and less than 5:\")\n",
    "print(greater_than_2_and_less_than_5)  \n"
   ]
  },
  {
   "cell_type": "code",
   "execution_count": 81,
   "id": "0d399dc3",
   "metadata": {
    "execution": {
     "iopub.execute_input": "2024-08-11T15:19:34.992028Z",
     "iopub.status.busy": "2024-08-11T15:19:34.991655Z",
     "iopub.status.idle": "2024-08-11T15:19:34.997728Z",
     "shell.execute_reply": "2024-08-11T15:19:34.996452Z"
    },
    "papermill": {
     "duration": 0.062651,
     "end_time": "2024-08-11T15:19:35.000657",
     "exception": false,
     "start_time": "2024-08-11T15:19:34.938006",
     "status": "completed"
    },
    "tags": []
   },
   "outputs": [
    {
     "name": "stdout",
     "output_type": "stream",
     "text": [
      "Elements less than 2 or equal to 5:\n",
      "[ True False False False  True]\n"
     ]
    }
   ],
   "source": [
    "# Combining conditions with logical OR (|)\n",
    "less_than_2_or_equal_to_5 = (array_1d < 2) | (array_1d == 5)\n",
    "print(\"Elements less than 2 or equal to 5:\")\n",
    "print(less_than_2_or_equal_to_5)"
   ]
  },
  {
   "cell_type": "markdown",
   "id": "90aa044c",
   "metadata": {
    "papermill": {
     "duration": 0.050352,
     "end_time": "2024-08-11T15:19:35.104516",
     "exception": false,
     "start_time": "2024-08-11T15:19:35.054164",
     "status": "completed"
    },
    "tags": []
   },
   "source": [
    "<div style=\"font-family: 'Times New Roman'; background-color: #f0f4c3; color: #3e4e24; padding: 10px; border-radius: 5px; text-align: center;\">\n",
    "\n",
    "### Sorting\n",
    "</div>\n"
   ]
  },
  {
   "cell_type": "code",
   "execution_count": 82,
   "id": "87772f1c",
   "metadata": {
    "execution": {
     "iopub.execute_input": "2024-08-11T15:19:35.208093Z",
     "iopub.status.busy": "2024-08-11T15:19:35.207673Z",
     "iopub.status.idle": "2024-08-11T15:19:35.215714Z",
     "shell.execute_reply": "2024-08-11T15:19:35.214581Z"
    },
    "papermill": {
     "duration": 0.062595,
     "end_time": "2024-08-11T15:19:35.218064",
     "exception": false,
     "start_time": "2024-08-11T15:19:35.155469",
     "status": "completed"
    },
    "tags": []
   },
   "outputs": [
    {
     "data": {
      "text/plain": [
       "array([[[[4, 6, 0, 6, 0],\n",
       "         [7, 4, 2, 1, 7],\n",
       "         [1, 9, 8, 5, 9],\n",
       "         [7, 9, 1, 8, 7]],\n",
       "\n",
       "        [[4, 6, 8, 9, 6],\n",
       "         [0, 7, 5, 9, 3],\n",
       "         [1, 4, 2, 3, 9],\n",
       "         [8, 0, 7, 1, 9]],\n",
       "\n",
       "        [[4, 2, 1, 9, 7],\n",
       "         [6, 0, 7, 0, 3],\n",
       "         [6, 7, 3, 3, 5],\n",
       "         [7, 4, 7, 3, 6]]],\n",
       "\n",
       "\n",
       "       [[[7, 2, 3, 2, 7],\n",
       "         [9, 3, 6, 3, 6],\n",
       "         [4, 2, 6, 2, 9],\n",
       "         [9, 3, 0, 8, 9]],\n",
       "\n",
       "        [[2, 1, 5, 7, 9],\n",
       "         [5, 1, 4, 6, 8],\n",
       "         [6, 7, 0, 0, 2],\n",
       "         [9, 6, 1, 3, 2]],\n",
       "\n",
       "        [[8, 5, 6, 4, 9],\n",
       "         [2, 7, 6, 1, 3],\n",
       "         [3, 3, 6, 0, 1],\n",
       "         [8, 1, 3, 5, 6]]]])"
      ]
     },
     "execution_count": 82,
     "metadata": {},
     "output_type": "execute_result"
    }
   ],
   "source": [
    "arr1"
   ]
  },
  {
   "cell_type": "code",
   "execution_count": 83,
   "id": "ddd6c30d",
   "metadata": {
    "execution": {
     "iopub.execute_input": "2024-08-11T15:19:35.323297Z",
     "iopub.status.busy": "2024-08-11T15:19:35.322914Z",
     "iopub.status.idle": "2024-08-11T15:19:35.330951Z",
     "shell.execute_reply": "2024-08-11T15:19:35.329837Z"
    },
    "papermill": {
     "duration": 0.063234,
     "end_time": "2024-08-11T15:19:35.333417",
     "exception": false,
     "start_time": "2024-08-11T15:19:35.270183",
     "status": "completed"
    },
    "tags": []
   },
   "outputs": [
    {
     "data": {
      "text/plain": [
       "array([[[[0, 0, 4, 6, 6],\n",
       "         [1, 2, 4, 7, 7],\n",
       "         [1, 5, 8, 9, 9],\n",
       "         [1, 7, 7, 8, 9]],\n",
       "\n",
       "        [[4, 6, 6, 8, 9],\n",
       "         [0, 3, 5, 7, 9],\n",
       "         [1, 2, 3, 4, 9],\n",
       "         [0, 1, 7, 8, 9]],\n",
       "\n",
       "        [[1, 2, 4, 7, 9],\n",
       "         [0, 0, 3, 6, 7],\n",
       "         [3, 3, 5, 6, 7],\n",
       "         [3, 4, 6, 7, 7]]],\n",
       "\n",
       "\n",
       "       [[[2, 2, 3, 7, 7],\n",
       "         [3, 3, 6, 6, 9],\n",
       "         [2, 2, 4, 6, 9],\n",
       "         [0, 3, 8, 9, 9]],\n",
       "\n",
       "        [[1, 2, 5, 7, 9],\n",
       "         [1, 4, 5, 6, 8],\n",
       "         [0, 0, 2, 6, 7],\n",
       "         [1, 2, 3, 6, 9]],\n",
       "\n",
       "        [[4, 5, 6, 8, 9],\n",
       "         [1, 2, 3, 6, 7],\n",
       "         [0, 1, 3, 3, 6],\n",
       "         [1, 3, 5, 6, 8]]]])"
      ]
     },
     "execution_count": 83,
     "metadata": {},
     "output_type": "execute_result"
    }
   ],
   "source": [
    "np.sort(arr1)"
   ]
  },
  {
   "cell_type": "code",
   "execution_count": 84,
   "id": "99c89d56",
   "metadata": {
    "execution": {
     "iopub.execute_input": "2024-08-11T15:19:35.437248Z",
     "iopub.status.busy": "2024-08-11T15:19:35.436854Z",
     "iopub.status.idle": "2024-08-11T15:19:35.444342Z",
     "shell.execute_reply": "2024-08-11T15:19:35.443172Z"
    },
    "papermill": {
     "duration": 0.06229,
     "end_time": "2024-08-11T15:19:35.446748",
     "exception": false,
     "start_time": "2024-08-11T15:19:35.384458",
     "status": "completed"
    },
    "tags": []
   },
   "outputs": [
    {
     "data": {
      "text/plain": [
       "11"
      ]
     },
     "execution_count": 84,
     "metadata": {},
     "output_type": "execute_result"
    }
   ],
   "source": [
    "np.argmax(arr1)"
   ]
  },
  {
   "cell_type": "markdown",
   "id": "9ce9fce8",
   "metadata": {
    "papermill": {
     "duration": 0.050717,
     "end_time": "2024-08-11T15:19:35.548418",
     "exception": false,
     "start_time": "2024-08-11T15:19:35.497701",
     "status": "completed"
    },
    "tags": []
   },
   "source": [
    "<div style=\"font-family: 'Times New Roman'; background-color: #f0f4c3; color: #3e4e24; padding: 10px; border-radius: 5px; text-align: center;\">\n",
    "\n",
    "### Finding Index of Minimum and Maximum\n",
    "    \n",
    "</div>\n",
    "\n"
   ]
  },
  {
   "cell_type": "code",
   "execution_count": 85,
   "id": "cb0e07c3",
   "metadata": {
    "execution": {
     "iopub.execute_input": "2024-08-11T15:19:35.652533Z",
     "iopub.status.busy": "2024-08-11T15:19:35.651420Z",
     "iopub.status.idle": "2024-08-11T15:19:35.657449Z",
     "shell.execute_reply": "2024-08-11T15:19:35.656301Z"
    },
    "papermill": {
     "duration": 0.060496,
     "end_time": "2024-08-11T15:19:35.659897",
     "exception": false,
     "start_time": "2024-08-11T15:19:35.599401",
     "status": "completed"
    },
    "tags": []
   },
   "outputs": [],
   "source": [
    "# Create a 1D array\n",
    "array_1d = np.array([3, 1, 4, 1, 5, 9, 2])"
   ]
  },
  {
   "cell_type": "code",
   "execution_count": 86,
   "id": "df744f28",
   "metadata": {
    "execution": {
     "iopub.execute_input": "2024-08-11T15:19:35.764676Z",
     "iopub.status.busy": "2024-08-11T15:19:35.764156Z",
     "iopub.status.idle": "2024-08-11T15:19:35.770221Z",
     "shell.execute_reply": "2024-08-11T15:19:35.769055Z"
    },
    "papermill": {
     "duration": 0.062409,
     "end_time": "2024-08-11T15:19:35.773149",
     "exception": false,
     "start_time": "2024-08-11T15:19:35.710740",
     "status": "completed"
    },
    "tags": []
   },
   "outputs": [
    {
     "name": "stdout",
     "output_type": "stream",
     "text": [
      "[3 1 4 1 5 9 2]\n"
     ]
    }
   ],
   "source": [
    "print(array_1d)"
   ]
  },
  {
   "cell_type": "code",
   "execution_count": 87,
   "id": "dbb522be",
   "metadata": {
    "execution": {
     "iopub.execute_input": "2024-08-11T15:19:35.882611Z",
     "iopub.status.busy": "2024-08-11T15:19:35.882208Z",
     "iopub.status.idle": "2024-08-11T15:19:35.889307Z",
     "shell.execute_reply": "2024-08-11T15:19:35.888194Z"
    },
    "papermill": {
     "duration": 0.064644,
     "end_time": "2024-08-11T15:19:35.891791",
     "exception": false,
     "start_time": "2024-08-11T15:19:35.827147",
     "status": "completed"
    },
    "tags": []
   },
   "outputs": [
    {
     "data": {
      "text/plain": [
       "5"
      ]
     },
     "execution_count": 87,
     "metadata": {},
     "output_type": "execute_result"
    }
   ],
   "source": [
    "#Maximum\n",
    "np.argmax(array_1d)"
   ]
  },
  {
   "cell_type": "code",
   "execution_count": 88,
   "id": "9c615a33",
   "metadata": {
    "execution": {
     "iopub.execute_input": "2024-08-11T15:19:35.998466Z",
     "iopub.status.busy": "2024-08-11T15:19:35.997826Z",
     "iopub.status.idle": "2024-08-11T15:19:36.006352Z",
     "shell.execute_reply": "2024-08-11T15:19:36.005172Z"
    },
    "papermill": {
     "duration": 0.064557,
     "end_time": "2024-08-11T15:19:36.008766",
     "exception": false,
     "start_time": "2024-08-11T15:19:35.944209",
     "status": "completed"
    },
    "tags": []
   },
   "outputs": [
    {
     "data": {
      "text/plain": [
       "1"
      ]
     },
     "execution_count": 88,
     "metadata": {},
     "output_type": "execute_result"
    }
   ],
   "source": [
    "#Minimum\n",
    "np.argmin(array_1d)"
   ]
  },
  {
   "cell_type": "markdown",
   "id": "c23a259f",
   "metadata": {
    "papermill": {
     "duration": 0.051003,
     "end_time": "2024-08-11T15:19:36.112658",
     "exception": false,
     "start_time": "2024-08-11T15:19:36.061655",
     "status": "completed"
    },
    "tags": []
   },
   "source": [
    "<div style=\"font-family: 'Times New Roman'; background-color: #f29492; padding: 10px; border-radius: 5px;\">\n",
    "\n",
    "## 🙏 Thank You for Exploring!\n",
    "\n",
    "Thank you for taking the time to explore this NumPy notebook! I hope you found the explanations and examples helpful for understanding NumPy's core functionalities and operations.\n",
    "\n",
    "If you enjoyed this notebook, feel free to check out my other notebooks on Kaggle:\n",
    "\n",
    "- [🌟 Understanding Gradient Descent : Types] https://www.kaggle.com/code/fahmidachowdhury/understanding-gradient-descent-types\n",
    "- [🏠💰Household Income ||EDA|| Modeling] https://www.kaggle.com/code/fahmidachowdhury/household-income-eda-modeling \n",
    "\n",
    "    \n",
    "Your feedback is always welcome! If you have any questions, suggestions, or improvements, please feel free to leave a comment.\n",
    "\n",
    "Happy coding and see you in the next notebook!\n",
    "\n",
    "</div>\n"
   ]
  }
 ],
 "metadata": {
  "kaggle": {
   "accelerator": "none",
   "dataSources": [],
   "dockerImageVersionId": 30746,
   "isGpuEnabled": false,
   "isInternetEnabled": true,
   "language": "python",
   "sourceType": "notebook"
  },
  "kernelspec": {
   "display_name": "Python 3 (ipykernel)",
   "language": "python",
   "name": "python3"
  },
  "language_info": {
   "codemirror_mode": {
    "name": "ipython",
    "version": 3
   },
   "file_extension": ".py",
   "mimetype": "text/x-python",
   "name": "python",
   "nbconvert_exporter": "python",
   "pygments_lexer": "ipython3",
   "version": "3.11.4"
  },
  "papermill": {
   "default_parameters": {},
   "duration": 22.790639,
   "end_time": "2024-08-11T15:19:36.686671",
   "environment_variables": {},
   "exception": null,
   "input_path": "__notebook__.ipynb",
   "output_path": "__notebook__.ipynb",
   "parameters": {},
   "start_time": "2024-08-11T15:19:13.896032",
   "version": "2.5.0"
  }
 },
 "nbformat": 4,
 "nbformat_minor": 5
}
