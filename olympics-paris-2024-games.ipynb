{
 "cells": [
  {
   "cell_type": "code",
   "execution_count": 1,
   "id": "2d02c194",
   "metadata": {
    "_cell_guid": "b1076dfc-b9ad-4769-8c92-a6c4dae69d19",
    "_uuid": "8f2839f25d086af736a60e9eeb907d3b93b6e0e5",
    "execution": {
     "iopub.execute_input": "2024-08-10T20:47:45.516508Z",
     "iopub.status.busy": "2024-08-10T20:47:45.515695Z",
     "iopub.status.idle": "2024-08-10T20:47:46.518512Z",
     "shell.execute_reply": "2024-08-10T20:47:46.517004Z"
    },
    "papermill": {
     "duration": 1.011827,
     "end_time": "2024-08-10T20:47:46.522031",
     "exception": false,
     "start_time": "2024-08-10T20:47:45.510204",
     "status": "completed"
    },
    "tags": []
   },
   "outputs": [],
   "source": [
    "import pandas as pd\n",
    "import numpy as np\n",
    "import matplotlib.pyplot as plt"
   ]
  },
  {
   "cell_type": "code",
   "execution_count": 2,
   "id": "f56c4246",
   "metadata": {
    "execution": {
     "iopub.execute_input": "2024-08-10T20:47:46.530703Z",
     "iopub.status.busy": "2024-08-10T20:47:46.530050Z",
     "iopub.status.idle": "2024-08-10T20:47:46.557205Z",
     "shell.execute_reply": "2024-08-10T20:47:46.555726Z"
    },
    "papermill": {
     "duration": 0.035043,
     "end_time": "2024-08-10T20:47:46.560457",
     "exception": false,
     "start_time": "2024-08-10T20:47:46.525414",
     "status": "completed"
    },
    "tags": []
   },
   "outputs": [],
   "source": [
    "df=pd.read_csv('/kaggle/input/paris-olympics-2024-games-dataset-updated-daily/events.csv')"
   ]
  },
  {
   "cell_type": "code",
   "execution_count": 3,
   "id": "8fdf87ef",
   "metadata": {
    "execution": {
     "iopub.execute_input": "2024-08-10T20:47:46.568077Z",
     "iopub.status.busy": "2024-08-10T20:47:46.567598Z",
     "iopub.status.idle": "2024-08-10T20:47:46.586214Z",
     "shell.execute_reply": "2024-08-10T20:47:46.584827Z"
    },
    "papermill": {
     "duration": 0.025473,
     "end_time": "2024-08-10T20:47:46.588853",
     "exception": false,
     "start_time": "2024-08-10T20:47:46.563380",
     "status": "completed"
    },
    "tags": []
   },
   "outputs": [
    {
     "data": {
      "text/plain": [
       "event         0\n",
       "tag           0\n",
       "sport         0\n",
       "sport_code    0\n",
       "sport_url     0\n",
       "dtype: int64"
      ]
     },
     "execution_count": 3,
     "metadata": {},
     "output_type": "execute_result"
    }
   ],
   "source": [
    "df.isna().sum()"
   ]
  },
  {
   "cell_type": "code",
   "execution_count": 4,
   "id": "96508343",
   "metadata": {
    "execution": {
     "iopub.execute_input": "2024-08-10T20:47:46.596618Z",
     "iopub.status.busy": "2024-08-10T20:47:46.596194Z",
     "iopub.status.idle": "2024-08-10T20:47:46.614296Z",
     "shell.execute_reply": "2024-08-10T20:47:46.613070Z"
    },
    "papermill": {
     "duration": 0.025156,
     "end_time": "2024-08-10T20:47:46.617053",
     "exception": false,
     "start_time": "2024-08-10T20:47:46.591897",
     "status": "completed"
    },
    "tags": []
   },
   "outputs": [
    {
     "data": {
      "text/html": [
       "<div>\n",
       "<style scoped>\n",
       "    .dataframe tbody tr th:only-of-type {\n",
       "        vertical-align: middle;\n",
       "    }\n",
       "\n",
       "    .dataframe tbody tr th {\n",
       "        vertical-align: top;\n",
       "    }\n",
       "\n",
       "    .dataframe thead th {\n",
       "        text-align: right;\n",
       "    }\n",
       "</style>\n",
       "<table border=\"1\" class=\"dataframe\">\n",
       "  <thead>\n",
       "    <tr style=\"text-align: right;\">\n",
       "      <th></th>\n",
       "      <th>event</th>\n",
       "      <th>tag</th>\n",
       "      <th>sport</th>\n",
       "      <th>sport_code</th>\n",
       "      <th>sport_url</th>\n",
       "    </tr>\n",
       "  </thead>\n",
       "  <tbody>\n",
       "    <tr>\n",
       "      <th>0</th>\n",
       "      <td>Men's Individual</td>\n",
       "      <td>archery</td>\n",
       "      <td>Archery</td>\n",
       "      <td>ARC</td>\n",
       "      <td>https://olympics.com/en/paris-2024/sports/archery</td>\n",
       "    </tr>\n",
       "    <tr>\n",
       "      <th>1</th>\n",
       "      <td>Women's Individual</td>\n",
       "      <td>archery</td>\n",
       "      <td>Archery</td>\n",
       "      <td>ARC</td>\n",
       "      <td>https://olympics.com/en/paris-2024/sports/archery</td>\n",
       "    </tr>\n",
       "    <tr>\n",
       "      <th>2</th>\n",
       "      <td>Men's Team</td>\n",
       "      <td>archery</td>\n",
       "      <td>Archery</td>\n",
       "      <td>ARC</td>\n",
       "      <td>https://olympics.com/en/paris-2024/sports/archery</td>\n",
       "    </tr>\n",
       "    <tr>\n",
       "      <th>3</th>\n",
       "      <td>Women's Team</td>\n",
       "      <td>archery</td>\n",
       "      <td>Archery</td>\n",
       "      <td>ARC</td>\n",
       "      <td>https://olympics.com/en/paris-2024/sports/archery</td>\n",
       "    </tr>\n",
       "    <tr>\n",
       "      <th>4</th>\n",
       "      <td>Mixed Team</td>\n",
       "      <td>archery</td>\n",
       "      <td>Archery</td>\n",
       "      <td>ARC</td>\n",
       "      <td>https://olympics.com/en/paris-2024/sports/archery</td>\n",
       "    </tr>\n",
       "  </tbody>\n",
       "</table>\n",
       "</div>"
      ],
      "text/plain": [
       "                event      tag    sport sport_code  \\\n",
       "0    Men's Individual  archery  Archery        ARC   \n",
       "1  Women's Individual  archery  Archery        ARC   \n",
       "2          Men's Team  archery  Archery        ARC   \n",
       "3        Women's Team  archery  Archery        ARC   \n",
       "4          Mixed Team  archery  Archery        ARC   \n",
       "\n",
       "                                           sport_url  \n",
       "0  https://olympics.com/en/paris-2024/sports/archery  \n",
       "1  https://olympics.com/en/paris-2024/sports/archery  \n",
       "2  https://olympics.com/en/paris-2024/sports/archery  \n",
       "3  https://olympics.com/en/paris-2024/sports/archery  \n",
       "4  https://olympics.com/en/paris-2024/sports/archery  "
      ]
     },
     "execution_count": 4,
     "metadata": {},
     "output_type": "execute_result"
    }
   ],
   "source": [
    "df.head()"
   ]
  }
 ],
 "metadata": {
  "kaggle": {
   "accelerator": "none",
   "dataSources": [
    {
     "datasetId": 5525914,
     "sourceId": 9148272,
     "sourceType": "datasetVersion"
    }
   ],
   "dockerImageVersionId": 30746,
   "isGpuEnabled": false,
   "isInternetEnabled": true,
   "language": "python",
   "sourceType": "notebook"
  },
  "kernelspec": {
   "display_name": "Python 3",
   "language": "python",
   "name": "python3"
  },
  "language_info": {
   "codemirror_mode": {
    "name": "ipython",
    "version": 3
   },
   "file_extension": ".py",
   "mimetype": "text/x-python",
   "name": "python",
   "nbconvert_exporter": "python",
   "pygments_lexer": "ipython3",
   "version": "3.10.13"
  },
  "papermill": {
   "default_parameters": {},
   "duration": 4.927169,
   "end_time": "2024-08-10T20:47:47.343591",
   "environment_variables": {},
   "exception": null,
   "input_path": "__notebook__.ipynb",
   "output_path": "__notebook__.ipynb",
   "parameters": {},
   "start_time": "2024-08-10T20:47:42.416422",
   "version": "2.5.0"
  }
 },
 "nbformat": 4,
 "nbformat_minor": 5
}
